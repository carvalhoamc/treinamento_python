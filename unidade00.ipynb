{
 "cells": [
  {
   "cell_type": "code",
   "execution_count": 5,
   "metadata": {},
   "outputs": [
    {
     "name": "stdout",
     "output_type": "stream",
     "text": [
      "Hello, world! My name is Joe\n",
      "Hello!\n",
      "# this is not a comment\n"
     ]
    },
    {
     "data": {
      "text/plain": [
       "'\\nComentario\\n'"
      ]
     },
     "execution_count": 5,
     "metadata": {},
     "output_type": "execute_result"
    }
   ],
   "source": [
    "print(\"Hello, world! My name is Joe\")\n",
    "# This is the comment for the comments.py file\n",
    "print(\"Hello!\")# this comment is for the second line\n",
    "print(\"# this is not a comment\")\n",
    "# new comment\n",
    "'''\n",
    "Comentario\n",
    "'''\n"
   ]
  },
  {
   "cell_type": "code",
   "execution_count": 8,
   "metadata": {},
   "outputs": [
    {
     "name": "stdout",
     "output_type": "stream",
     "text": [
      "a = 2\n",
      "b = 2\n",
      "greetings = greetings\n",
      "greetings = 5\n"
     ]
    }
   ],
   "source": [
    "# This is called a \"chained assignment\". It assigns the value 2 to variables \"a\" and \"b\".\n",
    "a = b = 2\n",
    "print(\"a = \" + str(a))\n",
    "print(\"b = \" + str(b))\n",
    "greetings = \"greetings\"\n",
    "print(\"greetings = \" + str(greetings))\n",
    "greetings = 5\n",
    "print(\"greetings = \" + str(greetings))"
   ]
  },
  {
   "cell_type": "code",
   "execution_count": 9,
   "metadata": {},
   "outputs": [
    {
     "name": "stdout",
     "output_type": "stream",
     "text": [
      "<class 'int'>\n",
      "<class 'float'>\n",
      "<class 'int'>\n",
      "9.0\n",
      "9\n"
     ]
    }
   ],
   "source": [
    "number = 9\n",
    "print(type(number))   # print type of variable \"number\"\n",
    "\n",
    "float_number = 9.0\n",
    "print(type(float_number))\n",
    "number = 9\n",
    "print(type(number))   # print type of variable \"number\"\n",
    "\n",
    "float_number = 9.0\n",
    "print(float_number)\n",
    "print(int(float_number))\n"
   ]
  },
  {
   "cell_type": "code",
   "execution_count": 10,
   "metadata": {},
   "outputs": [
    {
     "name": "stdout",
     "output_type": "stream",
     "text": [
      "result = 4.5\n",
      "remainder = 1.0\n",
      "number = 9.0\n",
      "number = 7.0\n",
      "number = 12.0\n"
     ]
    }
   ],
   "source": [
    "number = 9.0        # float number\n",
    "result = number / 2\n",
    "remainder = number % 2\n",
    "print(\"result = \" + str(result))\n",
    "print(\"remainder = \" + str(remainder))\n",
    "number = 9.0\n",
    "print(\"number = \" + str(number))\n",
    "number -= 2\n",
    "print(\"number = \" + str(number))\n",
    "number += 5\n",
    "print(\"number = \" + str(number))\n"
   ]
  },
  {
   "cell_type": "code",
   "execution_count": 11,
   "metadata": {},
   "outputs": [
    {
     "name": "stdout",
     "output_type": "stream",
     "text": [
      "False\n"
     ]
    }
   ],
   "source": [
    "two = 2\n",
    "three = 3\n",
    "is_equal = two == three\n",
    "print(is_equal)"
   ]
  },
  {
   "cell_type": "code",
   "execution_count": 12,
   "metadata": {},
   "outputs": [
    {
     "name": "stdout",
     "output_type": "stream",
     "text": [
      "Hello World\n",
      "hellohellohellohellohellohellohellohellohellohello\n"
     ]
    }
   ],
   "source": [
    "hello = \"Hello\"\n",
    "world = 'World'\n",
    "\n",
    "hello_world = hello + ' ' + world\n",
    "print(hello_world)      # Note: you should print \"Hello World\"\n",
    "hello = \"hello\"\n",
    "ten_of_hellos = hello * 10\n",
    "print(ten_of_hellos)\n"
   ]
  },
  {
   "cell_type": "code",
   "execution_count": 14,
   "metadata": {},
   "outputs": [
    {
     "name": "stdout",
     "output_type": "stream",
     "text": [
      "h h\n",
      "P\n",
      "!\n"
     ]
    }
   ],
   "source": [
    "python = \"Python\"\n",
    "print(\"h \" + python[3])#Note: string indexing starts with 0\n",
    "p_letter = python[0]\n",
    "print(p_letter)\n",
    "\n",
    "long_string = \"This is a very long string!\"\n",
    "exclamation = long_string[-1]\n",
    "print(exclamation)"
   ]
  },
  {
   "cell_type": "code",
   "execution_count": 16,
   "metadata": {},
   "outputs": [
    {
     "name": "stdout",
     "output_type": "stream",
     "text": [
      "Monty\n",
      "Python\n"
     ]
    }
   ],
   "source": [
    "monty_python = \"Monty Python\"\n",
    "monty = monty_python[:5]# one or both index could be dropped. monty_python[:5] is equal to monty_python[0:5]\n",
    "print(monty)\n",
    "python = monty_python[6:]\n",
    "print(python)"
   ]
  },
  {
   "cell_type": "code",
   "execution_count": 18,
   "metadata": {},
   "outputs": [
    {
     "name": "stdout",
     "output_type": "stream",
     "text": [
      "True\n",
      "True\n"
     ]
    }
   ],
   "source": [
    "ice_cream = \"ice cream\"\n",
    "print(\"cream\" in ice_cream)#print boolean result directly\n",
    "\n",
    "contains = 'ice' in ice_cream\n",
    "print(contains)"
   ]
  },
  {
   "cell_type": "code",
   "execution_count": 19,
   "metadata": {},
   "outputs": [
    {
     "name": "stdout",
     "output_type": "stream",
     "text": [
      "\n",
      "It is a really long string\n",
      "triple-quoted st\n"
     ]
    }
   ],
   "source": [
    "phrase = \"\"\"\n",
    "It is a really long string\n",
    "triple-quoted strings are used\n",
    "to define multi-line strings\n",
    "\"\"\"\n",
    "first_half = phrase[:int(len(phrase)/2)]\n",
    "print(first_half)"
   ]
  },
  {
   "cell_type": "code",
   "execution_count": 21,
   "metadata": {},
   "outputs": [
    {
     "name": "stdout",
     "output_type": "stream",
     "text": [
      "Don't worry about apostrophes\n",
      "\"Sweet\" is an ice-cream\n",
      "The name of this ice-cream is \"Sweet'n'Tasty\"\n",
      "Monty Python\n",
      "monty python\n",
      "MONTY PYTHON\n"
     ]
    }
   ],
   "source": [
    "dont_worry = \"Don't worry about apostrophes\"\n",
    "print(dont_worry)\n",
    "print(\"\\\"Sweet\\\" is an ice-cream\")\n",
    "print('The name of this ice-cream is \"Sweet\\'n\\'Tasty\"')\n",
    "\n",
    "monty_python = \"Monty Python\"\n",
    "print(monty_python)\n",
    "print(monty_python.lower())#print lower-cased version of the string\n",
    "print(monty_python.upper())"
   ]
  },
  {
   "cell_type": "code",
   "execution_count": 22,
   "metadata": {},
   "outputs": [
    {
     "name": "stdout",
     "output_type": "stream",
     "text": [
      "Hello, PyCharm! My name is John!\n",
      "I'm 17 years old\n"
     ]
    }
   ],
   "source": [
    "name = \"John\"\n",
    "print(\"Hello, PyCharm! My name is %s!\" % name)#Note: %s is inside the string, % is after the string\n",
    "\n",
    "print(\"I'm %d years old\" % 17)"
   ]
  },
  {
   "cell_type": "code",
   "execution_count": 26,
   "metadata": {},
   "outputs": [
    {
     "name": "stdout",
     "output_type": "stream",
     "text": [
      "[1, 4, 9, 16, 25]\n",
      "[4, 9, 16]\n",
      "['elephant', 'lion', 'tiger', 'giraffe']\n",
      "['elephant', 'lion', 'tiger', 'giraffe', 'monkey', 'dog']\n",
      "['elephant', 'lion', 'tiger', 'giraffe', 'monkey', 'dog', 'dino']\n",
      "['elephant', 'lion', 'tiger', 'giraffe', 'monkey', 'dog', 'dinosaur']\n"
     ]
    }
   ],
   "source": [
    "squares = [1, 4, 9, 16, 25]# create new list\n",
    "print(squares)\n",
    "print(squares[1:4])\n",
    "\n",
    "animals = ['elephant', 'lion', 'tiger', \"giraffe\"] #create new list\n",
    "print(animals)\n",
    "animals += [\"monkey\", 'dog']# add two items to the list\n",
    "print(animals)\n",
    "animals.append(\"dino\")# add one more item to the list using append() method\n",
    "print(animals)\n",
    "animals[-1] = 'dinosaur'\n",
    "print(animals)"
   ]
  },
  {
   "cell_type": "code",
   "execution_count": 28,
   "metadata": {},
   "outputs": [
    {
     "name": "stdout",
     "output_type": "stream",
     "text": [
      "['elephant', 'lion', 'tiger', 'giraffe', 'monkey', 'dog']\n",
      "['elephant', 'cat', 'giraffe', 'monkey', 'dog']\n",
      "['elephant', 'monkey', 'dog']\n",
      "[]\n"
     ]
    }
   ],
   "source": [
    "animals = ['elephant', 'lion', 'tiger', \"giraffe\", \"monkey\", 'dog']#create new list\n",
    "print(animals)\n",
    "animals[1:3] = ['cat']#replace 2 items -- 'lion' and 'tiger' with one item -- 'cat'\n",
    "print(animals)\n",
    "animals[1:3] = []# remove 2 items -- 'cat' and 'giraffe' from the list\n",
    "print(animals)\n",
    "animals[:] = []\n",
    "print(animals)"
   ]
  },
  {
   "cell_type": "code",
   "execution_count": 30,
   "metadata": {},
   "outputs": [
    {
     "name": "stdout",
     "output_type": "stream",
     "text": [
      "26\n"
     ]
    }
   ],
   "source": [
    "alphabet = ('a', 'b', 'c', 'd', 'e', 'f', 'g', 'h', 'i', 'j', 'k', 'l', 'm', 'n', 'o',\n",
    "            'p', 'q', 'r', 's', 't', 'u', 'v', 'w', 'x', 'y', 'z')\n",
    "\n",
    "print(len(alphabet))"
   ]
  },
  {
   "cell_type": "code",
   "execution_count": 62,
   "metadata": {},
   "outputs": [
    {
     "name": "stdout",
     "output_type": "stream",
     "text": [
      "{'John': 123, 'Jane': 234, 'Jerard': 345}\n",
      "{'John': 123, 'Jane': 234, 'Jerard': 345, 'Jill': 345}\n",
      "234\n",
      "Create dict from 2 lists\n",
      "{'a': 1, 'b': 2, 'c': 3}\n"
     ]
    }
   ],
   "source": [
    "# create new dictionary.\n",
    "phone_book = {\"John\": 123, \"Jane\": 234, \"Jerard\": 345}#\"John\", \"Jane\" and \"Jerard\" are keys and numbers are values\n",
    "print(phone_book)\n",
    "# Add new item to the dictionary\n",
    "phone_book[\"Jill\"] = 345\n",
    "print(phone_book)\n",
    "# Remove key-value pair from phone_book\n",
    "del phone_book['John']\n",
    "print(phone_book['Jane'])\n",
    "print('Create dict from 2 lists')\n",
    "keys = ['a', 'b', 'c']\n",
    "values = [1, 2, 3]\n",
    "dictionary = dict(zip(keys, values))\n",
    "print(dictionary)"
   ]
  },
  {
   "cell_type": "code",
   "execution_count": 32,
   "metadata": {},
   "outputs": [
    {
     "name": "stdout",
     "output_type": "stream",
     "text": [
      "{'John': 123, 'Jane': 234, 'Jerard': 345}\n",
      "{'John': 123, 'Jane': 234, 'Jerard': 345, 'Jill': 456}\n",
      "dict_keys(['John', 'Jane', 'Jerard', 'Jill'])\n",
      "dict_values([123, 234, 345, 456])\n"
     ]
    }
   ],
   "source": [
    "phone_book = {\"John\": 123, \"Jane\": 234, \"Jerard\": 345}#create new dictionary\n",
    "print(phone_book)\n",
    "# Add new item to the dictionary\n",
    "phone_book[\"Jill\"] = 456\n",
    "print(phone_book)\n",
    "print(phone_book.keys())\n",
    "print(phone_book.values())"
   ]
  },
  {
   "cell_type": "code",
   "execution_count": 34,
   "metadata": {},
   "outputs": [
    {
     "name": "stdout",
     "output_type": "stream",
     "text": [
      "True\n",
      "True\n"
     ]
    }
   ],
   "source": [
    "grocery_list = [\"fish\", \"tomato\", 'apples']# create new list\n",
    "print(\"tomato\" in grocery_list)# check that grocery_list contains \"tomato\" item\n",
    "grocery_dict = {\"fish\": 1, \"tomato\": 6, 'apples': 3}# create new dictionary\n",
    "print('fish' in grocery_dict.keys())"
   ]
  },
  {
   "cell_type": "code",
   "execution_count": 35,
   "metadata": {},
   "outputs": [
    {
     "name": "stdout",
     "output_type": "stream",
     "text": [
      "True\n",
      "True\n",
      "True\n",
      "True\n",
      "False\n"
     ]
    }
   ],
   "source": [
    "name = \"John\"\n",
    "age = 17\n",
    "print(name == \"John\" or age == 17)#checks that either name equals to \"John\" OR age equals to 17\n",
    "print(name == 'John' and age != 23)\n",
    "\n",
    "name = \"John\"\n",
    "age = 17\n",
    "print(name == \"John\" or not age > 17)\n",
    "print(name == \"John\" or not age > 17)\n",
    "print(name is \"Ellis\" or not (name is \"John\" and age == 17))"
   ]
  },
  {
   "cell_type": "code",
   "execution_count": 38,
   "metadata": {},
   "outputs": [
    {
     "name": "stdout",
     "output_type": "stream",
     "text": [
      "name is John\n",
      "John is 17 years old\n"
     ]
    }
   ],
   "source": [
    "name = \"John\"\n",
    "age = 17\n",
    "if name == \"John\" or age == 17:#check that name is \"John\" or age is 17. If so print next 2 lines.\n",
    "    print(\"name is John\")\n",
    "    print(\"John is 17 years old\")\n",
    "\n",
    "tasks = ['task1', 'task2']#create new list\n",
    "if len(tasks) == 0:\n",
    "    print(\"empty\")"
   ]
  },
  {
   "cell_type": "code",
   "execution_count": 41,
   "metadata": {},
   "outputs": [
    {
     "name": "stdout",
     "output_type": "stream",
     "text": [
      "non of the above is true\n",
      "True\n"
     ]
    }
   ],
   "source": [
    "x = 28\n",
    "\n",
    "if x < 0:\n",
    "    print('x < 0')# executes only if x < 0\n",
    "elif x == 0:\n",
    "    print('x is zero')# if it's not true that x < 0, check if x == 0\n",
    "elif x == 1:\n",
    "    print('x == 1')# if it's not true that x < 0 and x != 0, check if x == 1\n",
    "else:\n",
    "    print('non of the above is true')\n",
    "\n",
    "name = \"John\"\n",
    "if name == 'John':\n",
    "    print(True)\n",
    "else:\n",
    "    print(False)"
   ]
  },
  {
   "cell_type": "code",
   "execution_count": 42,
   "metadata": {},
   "outputs": [
    {
     "name": "stdout",
     "output_type": "stream",
     "text": [
      "0\n",
      "1\n",
      "2\n",
      "3\n",
      "4\n",
      "2\n",
      "3\n",
      "5\n",
      "7\n"
     ]
    }
   ],
   "source": [
    "for i in range(5):# for each number i in range 0-4. range(5) function returns list [0, 1, 2, 3, 4]\n",
    "    print(i)      # this line is executed 5 times. First time i equals 0, then 1, ...\n",
    "\n",
    "primes = [2, 3, 5, 7]#create new list\n",
    "for prime in primes:\n",
    "    print(prime)"
   ]
  },
  {
   "cell_type": "code",
   "execution_count": 46,
   "metadata": {},
   "outputs": [
    {
     "name": "stdout",
     "output_type": "stream",
     "text": [
      "H\n",
      "e\n",
      "l\n",
      "l\n",
      "o\n",
      ",\n",
      " \n",
      "W\n",
      "o\n",
      "r\n",
      "l\n",
      "d\n",
      "!\n",
      "True\n"
     ]
    }
   ],
   "source": [
    "hello_world = \"Hello, World!\"\n",
    "for ch in hello_world:#print each character from hello_world\n",
    "    print(ch)\n",
    "length = 0            #initialize length variable\n",
    "for ch in hello_world:\n",
    "    length += 1       #add 1 to the length on each iteration\n",
    "print(len(hello_world) == length)"
   ]
  },
  {
   "cell_type": "code",
   "execution_count": 48,
   "metadata": {},
   "outputs": [
    {
     "name": "stdout",
     "output_type": "stream",
     "text": [
      "1\n",
      "2\n",
      "3\n",
      "4\n",
      "5\n",
      "6\n",
      "7\n",
      "8\n",
      "9\n",
      "10\n",
      "Finished\n",
      "1\n",
      "4\n",
      "9\n",
      "16\n",
      "25\n",
      "36\n",
      "49\n",
      "64\n",
      "81\n"
     ]
    }
   ],
   "source": [
    "square = 1\n",
    "while square <= 10:\n",
    "    print(square)# This code is executed 10 times\n",
    "    square += 1# This code is executed 10 times\n",
    "print(\"Finished\")# This code is executed once\n",
    "square = 0\n",
    "number = 1\n",
    "while square < 81:\n",
    "    square = number ** 2\n",
    "    print(square)\n",
    "    number += 1"
   ]
  },
  {
   "cell_type": "code",
   "execution_count": 49,
   "metadata": {},
   "outputs": [
    {
     "name": "stdout",
     "output_type": "stream",
     "text": [
      "0\n",
      "1\n",
      "2\n",
      "3\n",
      "4\n",
      "elephant\n"
     ]
    }
   ],
   "source": [
    "count = 0\n",
    "while True:          # this condition cannot possibly be false\n",
    "    print(count)\n",
    "    count += 1\n",
    "    if count >= 5:\n",
    "        break        # exit loop if count >= 5\n",
    "\n",
    "zoo = [\"lion\", 'tiger', 'elephant']\n",
    "while True:                    # this condition cannot possibly be false\n",
    "    animal = zoo.pop()         # extract one element from the list end\n",
    "    print(animal)\n",
    "    if animal == 'elephant':\n",
    "        break           # exit loop\n"
   ]
  },
  {
   "cell_type": "code",
   "execution_count": 54,
   "metadata": {},
   "outputs": [
    {
     "name": "stdout",
     "output_type": "stream",
     "text": [
      "0\n",
      "1\n",
      "2\n",
      "4\n",
      "1\n",
      "3\n",
      "5\n",
      "7\n",
      "9\n"
     ]
    }
   ],
   "source": [
    "for i in range(5):\n",
    "    if i == 3:\n",
    "        continue# skip the rest of the code inside loop for current i value\n",
    "    print(i)\n",
    "\n",
    "for x in range(10):\n",
    "    if x % 2 == 0:\n",
    "        continue# skip print(x) for this loop\n",
    "    print(x)"
   ]
  },
  {
   "cell_type": "code",
   "execution_count": 57,
   "metadata": {},
   "outputs": [
    {
     "name": "stdout",
     "output_type": "stream",
     "text": [
      "Hello, World!\n",
      "Hello, World!\n",
      "Hello, World!\n",
      "Hello, World!\n",
      "Hello, World!\n",
      "I want to be a function\n",
      "I want to be a function\n",
      "I want to be a function\n",
      "I want to be a function\n",
      "I want to be a function\n",
      "I want to be a function\n"
     ]
    }
   ],
   "source": [
    "def hello_world():# function named my_function\n",
    "    print(\"Hello, World!\")\n",
    "\n",
    "for i in range(5):\n",
    "    hello_world()# call function defined above 5 times\n",
    "\n",
    "print('I want to be a function')\n",
    "print('I want to be a function')\n",
    "print('I want to be a function')\n",
    "\n",
    "def fun():\n",
    "    print('I want to be a function')\n",
    "\n",
    "for i in range(3):\n",
    "    fun()"
   ]
  },
  {
   "cell_type": "code",
   "execution_count": 58,
   "metadata": {},
   "outputs": [
    {
     "name": "stdout",
     "output_type": "stream",
     "text": [
      "x = 5\n",
      "16\n",
      "64\n",
      "225\n",
      "529\n",
      "1764\n"
     ]
    }
   ],
   "source": [
    "def foo(x):# x is a function parameter\n",
    "    print(\"x = \" + str(x))\n",
    "\n",
    "foo(5)# pass 5 to foo(). Here 5 is an argument passed to function foo.\n",
    "\n",
    "def square(x):\n",
    "    print(x ** 2)\n",
    "\n",
    "square(4)\n",
    "square(8)\n",
    "square(15)\n",
    "square(23)\n",
    "square(42)\n"
   ]
  },
  {
   "cell_type": "code",
   "execution_count": 59,
   "metadata": {},
   "outputs": [
    {
     "name": "stdout",
     "output_type": "stream",
     "text": [
      "[1, 1, 2, 3, 5, 8]\n"
     ]
    }
   ],
   "source": [
    "def sum_two_numbers(a, b):\n",
    "    return a + b# return result to the function caller\n",
    "c = sum_two_numbers(3, 12)# assign result of function execution to variable 'c'\n",
    "def fib(n):\n",
    "    \"\"\"This is documentation string for function. It'll be available by fib.__doc__()\n",
    "    Return a list containing the Fibonacci series up to n.\"\"\"\n",
    "    result = []\n",
    "    a = 1\n",
    "    b = 1\n",
    "    while a < n:\n",
    "        result.append(a)\n",
    "        tmp_var = b\n",
    "        b = a + b\n",
    "        a = tmp_var\n",
    "    return result\n",
    "\n",
    "print(fib(10))\n"
   ]
  },
  {
   "cell_type": "code",
   "execution_count": 61,
   "metadata": {},
   "outputs": [
    {
     "name": "stdout",
     "output_type": "stream",
     "text": [
      "141\n",
      "6\n",
      "Hello PyCharm! My name is Jane\n",
      "Hello PyCharm! My name is John\n"
     ]
    }
   ],
   "source": [
    "def multiply_by(a, b=2):\n",
    "    return a * b\n",
    "\n",
    "print(multiply_by(3, 47))\n",
    "print(multiply_by(3))#call function using default value for b parameter\n",
    "\n",
    "def hello(subject, name='John'):\n",
    "    print(\"Hello %s! My name is %s\" % (subject, name))\n",
    "\n",
    "hello(\"PyCharm\", \"Jane\")#call 'hello' function with \"PyCharm as a subject parameter and \"Jane\" as a name\n",
    "hello(\"PyCharm\")        # call 'hello' function with \"PyCharm as a subject parameter and default value for the name"
   ]
  },
  {
   "cell_type": "code",
   "execution_count": 63,
   "metadata": {},
   "outputs": [
    {
     "name": "stdout",
     "output_type": "stream",
     "text": [
      "meu nome\n"
     ]
    }
   ],
   "source": [
    "print('meu nome')"
   ]
  },
  {
   "cell_type": "code",
   "execution_count": null,
   "metadata": {},
   "outputs": [],
   "source": []
  }
 ],
 "metadata": {
  "kernelspec": {
   "display_name": "Python 3",
   "language": "python",
   "name": "python3"
  },
  "language_info": {
   "codemirror_mode": {
    "name": "ipython",
    "version": 3
   },
   "file_extension": ".py",
   "mimetype": "text/x-python",
   "name": "python",
   "nbconvert_exporter": "python",
   "pygments_lexer": "ipython3",
   "version": "3.6.5"
  }
 },
 "nbformat": 4,
 "nbformat_minor": 2
}
