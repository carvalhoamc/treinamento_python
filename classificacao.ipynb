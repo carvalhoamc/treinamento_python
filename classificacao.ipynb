{
 "cells": [
  {
   "cell_type": "code",
   "execution_count": 1,
   "metadata": {},
   "outputs": [
    {
     "name": "stdout",
     "output_type": "stream",
     "text": [
      "0 RF\n",
      "0 KNN\n",
      "0 DTREE\n",
      "0 GNB\n",
      "0 LRG\n",
      "0 ABC\n"
     ]
    },
    {
     "name": "stderr",
     "output_type": "stream",
     "text": [
      "/home/itwv/intelpython3/lib/python3.6/site-packages/sklearn/linear_model/logistic.py:436: FutureWarning: Default solver will be changed to 'lbfgs' in 0.22. Specify a solver to silence this warning.\n",
      "  FutureWarning)\n",
      "/home/itwv/intelpython3/lib/python3.6/site-packages/sklearn/linear_model/logistic.py:463: FutureWarning: Default multi_class will be changed to 'auto' in 0.22. Specify the multi_class option to silence this warning.\n",
      "  \"this warning.\", FutureWarning)\n",
      "/home/itwv/intelpython3/lib/python3.6/site-packages/sklearn/metrics/classification.py:1143: UndefinedMetricWarning: Precision and F-score are ill-defined and being set to 0.0 in labels with no predicted samples.\n",
      "  'precision', 'predicted', average, warn_for)\n",
      "/home/itwv/intelpython3/lib/python3.6/site-packages/sklearn/neural_network/multilayer_perceptron.py:562: ConvergenceWarning: Stochastic Optimizer: Maximum iterations (500) reached and the optimization hasn't converged yet.\n",
      "  % self.max_iter, ConvergenceWarning)\n",
      "/home/itwv/intelpython3/lib/python3.6/site-packages/sklearn/metrics/classification.py:1143: UndefinedMetricWarning: Precision and F-score are ill-defined and being set to 0.0 in labels with no predicted samples.\n",
      "  'precision', 'predicted', average, warn_for)\n"
     ]
    },
    {
     "name": "stdout",
     "output_type": "stream",
     "text": [
      "0 MLP\n",
      "0 KDA\n",
      "0 SVM1\n",
      "0 SVM2\n",
      "0 GPC\n",
      "1 RF\n",
      "1 KNN\n",
      "1 DTREE\n",
      "1 GNB\n",
      "1 LRG\n",
      "1 ABC\n"
     ]
    },
    {
     "name": "stderr",
     "output_type": "stream",
     "text": [
      "/home/itwv/intelpython3/lib/python3.6/site-packages/sklearn/linear_model/logistic.py:436: FutureWarning: Default solver will be changed to 'lbfgs' in 0.22. Specify a solver to silence this warning.\n",
      "  FutureWarning)\n",
      "/home/itwv/intelpython3/lib/python3.6/site-packages/sklearn/linear_model/logistic.py:463: FutureWarning: Default multi_class will be changed to 'auto' in 0.22. Specify the multi_class option to silence this warning.\n",
      "  \"this warning.\", FutureWarning)\n",
      "/home/itwv/intelpython3/lib/python3.6/site-packages/sklearn/neural_network/multilayer_perceptron.py:562: ConvergenceWarning: Stochastic Optimizer: Maximum iterations (500) reached and the optimization hasn't converged yet.\n",
      "  % self.max_iter, ConvergenceWarning)\n",
      "/home/itwv/intelpython3/lib/python3.6/site-packages/sklearn/metrics/classification.py:1143: UndefinedMetricWarning: Precision and F-score are ill-defined and being set to 0.0 in labels with no predicted samples.\n",
      "  'precision', 'predicted', average, warn_for)\n"
     ]
    },
    {
     "name": "stdout",
     "output_type": "stream",
     "text": [
      "1 MLP\n",
      "1 KDA\n",
      "1 SVM1\n",
      "1 SVM2\n",
      "1 GPC\n",
      "2 RF\n",
      "2 KNN\n",
      "2 DTREE\n",
      "2 GNB\n",
      "2 LRG\n",
      "2 ABC\n"
     ]
    },
    {
     "name": "stderr",
     "output_type": "stream",
     "text": [
      "/home/itwv/intelpython3/lib/python3.6/site-packages/sklearn/linear_model/logistic.py:436: FutureWarning: Default solver will be changed to 'lbfgs' in 0.22. Specify a solver to silence this warning.\n",
      "  FutureWarning)\n",
      "/home/itwv/intelpython3/lib/python3.6/site-packages/sklearn/linear_model/logistic.py:463: FutureWarning: Default multi_class will be changed to 'auto' in 0.22. Specify the multi_class option to silence this warning.\n",
      "  \"this warning.\", FutureWarning)\n",
      "/home/itwv/intelpython3/lib/python3.6/site-packages/sklearn/metrics/classification.py:1143: UndefinedMetricWarning: Precision and F-score are ill-defined and being set to 0.0 in labels with no predicted samples.\n",
      "  'precision', 'predicted', average, warn_for)\n",
      "/home/itwv/intelpython3/lib/python3.6/site-packages/sklearn/neural_network/multilayer_perceptron.py:562: ConvergenceWarning: Stochastic Optimizer: Maximum iterations (500) reached and the optimization hasn't converged yet.\n",
      "  % self.max_iter, ConvergenceWarning)\n"
     ]
    },
    {
     "name": "stdout",
     "output_type": "stream",
     "text": [
      "2 MLP\n",
      "2 KDA\n",
      "2 SVM1\n",
      "2 SVM2\n",
      "2 GPC\n",
      "3 RF\n",
      "3 KNN\n",
      "3 DTREE\n",
      "3 GNB\n",
      "3 LRG\n",
      "3 ABC\n"
     ]
    },
    {
     "name": "stderr",
     "output_type": "stream",
     "text": [
      "/home/itwv/intelpython3/lib/python3.6/site-packages/sklearn/linear_model/logistic.py:436: FutureWarning: Default solver will be changed to 'lbfgs' in 0.22. Specify a solver to silence this warning.\n",
      "  FutureWarning)\n",
      "/home/itwv/intelpython3/lib/python3.6/site-packages/sklearn/linear_model/logistic.py:463: FutureWarning: Default multi_class will be changed to 'auto' in 0.22. Specify the multi_class option to silence this warning.\n",
      "  \"this warning.\", FutureWarning)\n",
      "/home/itwv/intelpython3/lib/python3.6/site-packages/sklearn/metrics/classification.py:1143: UndefinedMetricWarning: Precision and F-score are ill-defined and being set to 0.0 in labels with no predicted samples.\n",
      "  'precision', 'predicted', average, warn_for)\n",
      "/home/itwv/intelpython3/lib/python3.6/site-packages/sklearn/neural_network/multilayer_perceptron.py:562: ConvergenceWarning: Stochastic Optimizer: Maximum iterations (500) reached and the optimization hasn't converged yet.\n",
      "  % self.max_iter, ConvergenceWarning)\n",
      "/home/itwv/intelpython3/lib/python3.6/site-packages/sklearn/metrics/classification.py:1143: UndefinedMetricWarning: Precision and F-score are ill-defined and being set to 0.0 in labels with no predicted samples.\n",
      "  'precision', 'predicted', average, warn_for)\n"
     ]
    },
    {
     "name": "stdout",
     "output_type": "stream",
     "text": [
      "3 MLP\n",
      "3 KDA\n",
      "3 SVM1\n",
      "3 SVM2\n",
      "3 GPC\n",
      "4 RF\n",
      "4 KNN\n",
      "4 DTREE\n",
      "4 GNB\n",
      "4 LRG\n",
      "4 ABC\n"
     ]
    },
    {
     "name": "stderr",
     "output_type": "stream",
     "text": [
      "/home/itwv/intelpython3/lib/python3.6/site-packages/sklearn/linear_model/logistic.py:436: FutureWarning: Default solver will be changed to 'lbfgs' in 0.22. Specify a solver to silence this warning.\n",
      "  FutureWarning)\n",
      "/home/itwv/intelpython3/lib/python3.6/site-packages/sklearn/linear_model/logistic.py:463: FutureWarning: Default multi_class will be changed to 'auto' in 0.22. Specify the multi_class option to silence this warning.\n",
      "  \"this warning.\", FutureWarning)\n",
      "/home/itwv/intelpython3/lib/python3.6/site-packages/sklearn/metrics/classification.py:1143: UndefinedMetricWarning: Precision and F-score are ill-defined and being set to 0.0 in labels with no predicted samples.\n",
      "  'precision', 'predicted', average, warn_for)\n",
      "/home/itwv/intelpython3/lib/python3.6/site-packages/sklearn/neural_network/multilayer_perceptron.py:562: ConvergenceWarning: Stochastic Optimizer: Maximum iterations (500) reached and the optimization hasn't converged yet.\n",
      "  % self.max_iter, ConvergenceWarning)\n",
      "/home/itwv/intelpython3/lib/python3.6/site-packages/sklearn/metrics/classification.py:1143: UndefinedMetricWarning: Precision and F-score are ill-defined and being set to 0.0 in labels with no predicted samples.\n",
      "  'precision', 'predicted', average, warn_for)\n"
     ]
    },
    {
     "name": "stdout",
     "output_type": "stream",
     "text": [
      "4 MLP\n",
      "4 KDA\n",
      "4 SVM1\n",
      "4 SVM2\n",
      "4 GPC\n",
      "5 RF\n",
      "5 KNN\n",
      "5 DTREE\n",
      "5 GNB\n",
      "5 LRG\n",
      "5 ABC\n"
     ]
    },
    {
     "name": "stderr",
     "output_type": "stream",
     "text": [
      "/home/itwv/intelpython3/lib/python3.6/site-packages/sklearn/linear_model/logistic.py:436: FutureWarning: Default solver will be changed to 'lbfgs' in 0.22. Specify a solver to silence this warning.\n",
      "  FutureWarning)\n",
      "/home/itwv/intelpython3/lib/python3.6/site-packages/sklearn/linear_model/logistic.py:463: FutureWarning: Default multi_class will be changed to 'auto' in 0.22. Specify the multi_class option to silence this warning.\n",
      "  \"this warning.\", FutureWarning)\n",
      "/home/itwv/intelpython3/lib/python3.6/site-packages/sklearn/metrics/classification.py:1143: UndefinedMetricWarning: Precision and F-score are ill-defined and being set to 0.0 in labels with no predicted samples.\n",
      "  'precision', 'predicted', average, warn_for)\n",
      "/home/itwv/intelpython3/lib/python3.6/site-packages/sklearn/neural_network/multilayer_perceptron.py:562: ConvergenceWarning: Stochastic Optimizer: Maximum iterations (500) reached and the optimization hasn't converged yet.\n",
      "  % self.max_iter, ConvergenceWarning)\n",
      "/home/itwv/intelpython3/lib/python3.6/site-packages/sklearn/metrics/classification.py:1143: UndefinedMetricWarning: Precision and F-score are ill-defined and being set to 0.0 in labels with no predicted samples.\n",
      "  'precision', 'predicted', average, warn_for)\n"
     ]
    },
    {
     "name": "stdout",
     "output_type": "stream",
     "text": [
      "5 MLP\n",
      "5 KDA\n",
      "5 SVM1\n",
      "5 SVM2\n",
      "5 GPC\n",
      "6 RF\n",
      "6 KNN\n",
      "6 DTREE\n",
      "6 GNB\n",
      "6 LRG\n",
      "6 ABC\n"
     ]
    },
    {
     "name": "stderr",
     "output_type": "stream",
     "text": [
      "/home/itwv/intelpython3/lib/python3.6/site-packages/sklearn/linear_model/logistic.py:436: FutureWarning: Default solver will be changed to 'lbfgs' in 0.22. Specify a solver to silence this warning.\n",
      "  FutureWarning)\n",
      "/home/itwv/intelpython3/lib/python3.6/site-packages/sklearn/linear_model/logistic.py:463: FutureWarning: Default multi_class will be changed to 'auto' in 0.22. Specify the multi_class option to silence this warning.\n",
      "  \"this warning.\", FutureWarning)\n",
      "/home/itwv/intelpython3/lib/python3.6/site-packages/sklearn/metrics/classification.py:1143: UndefinedMetricWarning: Precision and F-score are ill-defined and being set to 0.0 in labels with no predicted samples.\n",
      "  'precision', 'predicted', average, warn_for)\n",
      "/home/itwv/intelpython3/lib/python3.6/site-packages/sklearn/neural_network/multilayer_perceptron.py:562: ConvergenceWarning: Stochastic Optimizer: Maximum iterations (500) reached and the optimization hasn't converged yet.\n",
      "  % self.max_iter, ConvergenceWarning)\n",
      "/home/itwv/intelpython3/lib/python3.6/site-packages/sklearn/metrics/classification.py:1143: UndefinedMetricWarning: Precision and F-score are ill-defined and being set to 0.0 in labels with no predicted samples.\n",
      "  'precision', 'predicted', average, warn_for)\n"
     ]
    },
    {
     "name": "stdout",
     "output_type": "stream",
     "text": [
      "6 MLP\n",
      "6 KDA\n",
      "6 SVM1\n",
      "6 SVM2\n",
      "6 GPC\n",
      "7 RF\n",
      "7 KNN\n",
      "7 DTREE\n",
      "7 GNB\n",
      "7 LRG\n",
      "7 ABC\n"
     ]
    },
    {
     "name": "stderr",
     "output_type": "stream",
     "text": [
      "/home/itwv/intelpython3/lib/python3.6/site-packages/sklearn/linear_model/logistic.py:436: FutureWarning: Default solver will be changed to 'lbfgs' in 0.22. Specify a solver to silence this warning.\n",
      "  FutureWarning)\n",
      "/home/itwv/intelpython3/lib/python3.6/site-packages/sklearn/linear_model/logistic.py:463: FutureWarning: Default multi_class will be changed to 'auto' in 0.22. Specify the multi_class option to silence this warning.\n",
      "  \"this warning.\", FutureWarning)\n",
      "/home/itwv/intelpython3/lib/python3.6/site-packages/sklearn/neural_network/multilayer_perceptron.py:562: ConvergenceWarning: Stochastic Optimizer: Maximum iterations (500) reached and the optimization hasn't converged yet.\n",
      "  % self.max_iter, ConvergenceWarning)\n",
      "/home/itwv/intelpython3/lib/python3.6/site-packages/sklearn/metrics/classification.py:1143: UndefinedMetricWarning: Precision and F-score are ill-defined and being set to 0.0 in labels with no predicted samples.\n",
      "  'precision', 'predicted', average, warn_for)\n"
     ]
    },
    {
     "name": "stdout",
     "output_type": "stream",
     "text": [
      "7 MLP\n",
      "7 KDA\n",
      "7 SVM1\n",
      "7 SVM2\n",
      "7 GPC\n",
      "8 RF\n",
      "8 KNN\n",
      "8 DTREE\n",
      "8 GNB\n",
      "8 LRG\n",
      "8 ABC\n"
     ]
    },
    {
     "name": "stderr",
     "output_type": "stream",
     "text": [
      "/home/itwv/intelpython3/lib/python3.6/site-packages/sklearn/linear_model/logistic.py:436: FutureWarning: Default solver will be changed to 'lbfgs' in 0.22. Specify a solver to silence this warning.\n",
      "  FutureWarning)\n",
      "/home/itwv/intelpython3/lib/python3.6/site-packages/sklearn/linear_model/logistic.py:463: FutureWarning: Default multi_class will be changed to 'auto' in 0.22. Specify the multi_class option to silence this warning.\n",
      "  \"this warning.\", FutureWarning)\n",
      "/home/itwv/intelpython3/lib/python3.6/site-packages/sklearn/neural_network/multilayer_perceptron.py:562: ConvergenceWarning: Stochastic Optimizer: Maximum iterations (500) reached and the optimization hasn't converged yet.\n",
      "  % self.max_iter, ConvergenceWarning)\n",
      "/home/itwv/intelpython3/lib/python3.6/site-packages/sklearn/metrics/classification.py:1143: UndefinedMetricWarning: Precision and F-score are ill-defined and being set to 0.0 in labels with no predicted samples.\n",
      "  'precision', 'predicted', average, warn_for)\n"
     ]
    },
    {
     "name": "stdout",
     "output_type": "stream",
     "text": [
      "8 MLP\n",
      "8 KDA\n",
      "8 SVM1\n",
      "8 SVM2\n",
      "8 GPC\n",
      "9 RF\n",
      "9 KNN\n",
      "9 DTREE\n",
      "9 GNB\n"
     ]
    },
    {
     "name": "stderr",
     "output_type": "stream",
     "text": [
      "/home/itwv/intelpython3/lib/python3.6/site-packages/sklearn/linear_model/logistic.py:436: FutureWarning: Default solver will be changed to 'lbfgs' in 0.22. Specify a solver to silence this warning.\n",
      "  FutureWarning)\n",
      "/home/itwv/intelpython3/lib/python3.6/site-packages/sklearn/linear_model/logistic.py:463: FutureWarning: Default multi_class will be changed to 'auto' in 0.22. Specify the multi_class option to silence this warning.\n",
      "  \"this warning.\", FutureWarning)\n"
     ]
    },
    {
     "name": "stdout",
     "output_type": "stream",
     "text": [
      "9 LRG\n",
      "9 ABC\n"
     ]
    },
    {
     "name": "stderr",
     "output_type": "stream",
     "text": [
      "/home/itwv/intelpython3/lib/python3.6/site-packages/sklearn/neural_network/multilayer_perceptron.py:562: ConvergenceWarning: Stochastic Optimizer: Maximum iterations (500) reached and the optimization hasn't converged yet.\n",
      "  % self.max_iter, ConvergenceWarning)\n",
      "/home/itwv/intelpython3/lib/python3.6/site-packages/sklearn/metrics/classification.py:1143: UndefinedMetricWarning: Precision and F-score are ill-defined and being set to 0.0 in labels with no predicted samples.\n",
      "  'precision', 'predicted', average, warn_for)\n"
     ]
    },
    {
     "name": "stdout",
     "output_type": "stream",
     "text": [
      "9 MLP\n",
      "9 KDA\n",
      "9 SVM1\n",
      "9 SVM2\n",
      "9 GPC\n"
     ]
    }
   ],
   "source": [
    "import pandas as pd\n",
    "import numpy as np\n",
    "from imblearn.metrics import classification_report_imbalanced\n",
    "from sklearn import datasets\n",
    "from sklearn.discriminant_analysis import QuadraticDiscriminantAnalysis\n",
    "from sklearn.ensemble import RandomForestClassifier, AdaBoostClassifier\n",
    "from sklearn.gaussian_process import GaussianProcessClassifier\n",
    "from sklearn.gaussian_process.kernels import RBF\n",
    "from sklearn.linear_model import LogisticRegression\n",
    "from sklearn.metrics import accuracy_score\n",
    "from sklearn.model_selection import KFold\n",
    "from sklearn.naive_bayes import GaussianNB\n",
    "from sklearn.neighbors import KNeighborsClassifier\n",
    "from sklearn.neural_network import MLPClassifier\n",
    "from sklearn.preprocessing import Normalizer\n",
    "from sklearn.svm import SVC\n",
    "from sklearn.tree import DecisionTreeClassifier\n",
    "\n",
    "classifiers = {\n",
    "    'RF': RandomForestClassifier(n_estimators=100),\n",
    "    'KNN': KNeighborsClassifier(),\n",
    "    'DTREE': DecisionTreeClassifier(),\n",
    "    'GNB': GaussianNB(),\n",
    "    'LRG': LogisticRegression(),\n",
    "    'ABC': AdaBoostClassifier(),\n",
    "    'MLP': MLPClassifier(max_iter=500,alpha=1),\n",
    "    'KDA': QuadraticDiscriminantAnalysis(),\n",
    "    'SVM1': SVC(kernel='linear',C=0.025),\n",
    "    'SVM2': SVC(gamma=2, C=1),\n",
    "    'GPC': GaussianProcessClassifier(1.0 * RBF(1.0))\n",
    "}\n",
    "nfolds = 10\n",
    "\n",
    "kf = KFold(n_splits=nfolds,shuffle=True)\n",
    "transformer = Normalizer()\n",
    "iris = datasets.load_iris()\n",
    "X = iris.data\n",
    "X = transformer.fit_transform(X)\n",
    "y = iris.target\n",
    "dfcol = ['FOLD','ALGORITHM','PRE','REC','SPE','F1','GEO','IBA','AUC','ACC']\n",
    "df = pd.DataFrame(columns=dfcol)\n",
    "i = 0\n",
    "fold = 0\n",
    "for train_index, test_index in kf.split(X):\n",
    "    X_train, X_test = X[train_index],X[test_index]\n",
    "    y_train, y_test = y[train_index],y[test_index]\n",
    "    for name, clf in classifiers.items():\n",
    "        clf.fit(X_train,y_train)\n",
    "        y_pred = clf.predict(X_test)\n",
    "        res = classification_report_imbalanced(y_test, y_pred)\n",
    "        aux = res.split()\n",
    "        score = aux[-7:-1]\n",
    "        df.at[i,'FOLD'] = fold\n",
    "        df.at[i,'ALGORITHM'] = name\n",
    "        df.at[i,'PRE'] = score[0]\n",
    "        df.at[i, 'REC'] = score[1]\n",
    "        df.at[i, 'SPE'] = score[2]\n",
    "        df.at[i, 'F1'] = score[3]\n",
    "        df.at[i, 'GEO'] = score[4]\n",
    "        df.at[i, 'IBA'] = score[5]\n",
    "        df.at[i, 'ACC'] = accuracy_score(y_test,y_pred)\n",
    "        i = i + 1\n",
    "        print(str(fold) + ' ' + str(name))\n",
    "    fold = fold + 1\n",
    "df.to_csv('results_iris.csv',index=False)\n",
    "\n",
    "t = pd.Series(data=np.arange(0, df.shape[0],1))\n",
    "dfr = pd.DataFrame(columns=['ALGORITHM','PRE','REC','SPE','F1','GEO','IBA','AUC','ACC'],\n",
    "                   index=np.arange(0, int(t.shape[0] / nfolds)))\n",
    "df_temp = df.groupby(by=['ALGORITHM'])\n",
    "idx = dfr.index.values\n",
    "i = idx[0]\n",
    "for name, group in df_temp:\n",
    "    group = group.reset_index()\n",
    "    dfr.at[i,'ALGORITHM'] = group.loc[0,'ALGORITHM']\n",
    "    dfr.at[i,'PRE'] = group['PRE'].astype(float).mean()\n",
    "\n",
    "    dfr.at[i, 'REC'] = group['REC'].astype(float).mean()\n",
    "    dfr.at[i, 'SPE'] = group['SPE'].astype(float).mean()\n",
    "    dfr.at[i, 'F1'] = group['F1'].astype(float).mean()\n",
    "    dfr.at[i, 'GEO'] = group['GEO'].astype(float).mean()\n",
    "    dfr.at[i, 'IBA'] = group['IBA'].astype(float).mean()\n",
    "    dfr.at[i, 'ACC'] = group['ACC'].astype(float).mean()\n",
    "    i = i + 1\n",
    "\n",
    "dfr.to_csv('media_results_iris.csv',index=False)"
   ]
  },
  {
   "cell_type": "code",
   "execution_count": null,
   "metadata": {},
   "outputs": [],
   "source": []
  }
 ],
 "metadata": {
  "kernelspec": {
   "display_name": "Python 3",
   "language": "python",
   "name": "python3"
  },
  "language_info": {
   "codemirror_mode": {
    "name": "ipython",
    "version": 3
   },
   "file_extension": ".py",
   "mimetype": "text/x-python",
   "name": "python",
   "nbconvert_exporter": "python",
   "pygments_lexer": "ipython3",
   "version": "3.6.5"
  }
 },
 "nbformat": 4,
 "nbformat_minor": 2
}
