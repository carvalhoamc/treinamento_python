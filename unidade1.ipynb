{
 "cells": [
  {
   "cell_type": "code",
   "execution_count": 1,
   "metadata": {},
   "outputs": [
    {
     "name": "stdout",
     "output_type": "stream",
     "text": [
      "[[ 0  1  2  3  4]\n",
      " [ 5  6  7  8  9]\n",
      " [10 11 12 13 14]]\n",
      "shape =\n",
      "(3, 5)\n",
      "linha = \n",
      "3\n",
      "coluna = \n",
      "5\n",
      "nome do tipo = \n",
      "int64\n",
      "tamanho do item = \n",
      "8\n",
      "size = \n",
      "15\n",
      "tipo = \n",
      "<class 'numpy.ndarray'>\n"
     ]
    }
   ],
   "source": [
    "#introducao ao numpy\n",
    "\n",
    "import numpy as np\n",
    "a = np.arange(15).reshape(3, 5)\n",
    "print(a)\n",
    "print(\"shape =\")\n",
    "print(a.shape)\n",
    "print(\"linha = \")\n",
    "print(a.shape[0])\n",
    "print(\"coluna = \")\n",
    "print(a.shape[1])\n",
    "print(\"nome do tipo = \")\n",
    "print(a.dtype.name)\n",
    "print(\"tamanho do item = \")\n",
    "print(a.itemsize)\n",
    "print(\"size = \")\n",
    "print(a.size)\n",
    "print(\"tipo = \")\n",
    "print(type(a))"
   ]
  },
  {
   "cell_type": "code",
   "execution_count": 2,
   "metadata": {},
   "outputs": [
    {
     "name": "stdout",
     "output_type": "stream",
     "text": [
      "[2 3 4]\n",
      "[[1.5 2.  3. ]\n",
      " [4.  5.  6. ]]\n",
      "[[1.+0.j 2.+0.j]\n",
      " [3.+0.j 4.+0.j]]\n",
      "complex128\n"
     ]
    }
   ],
   "source": [
    "#Criando um array numpy\n",
    "a = np.array([2,3,4])\n",
    "print(a)\n",
    "b = np.array([(1.5,2,3), (4,5,6)])\n",
    "print(b)\n",
    "c = np.array( [ [1,2], [3,4] ], dtype=complex )\n",
    "print(c)\n",
    "print(c.dtype)"
   ]
  },
  {
   "cell_type": "code",
   "execution_count": 3,
   "metadata": {},
   "outputs": [
    {
     "name": "stdout",
     "output_type": "stream",
     "text": [
      "[[0. 0. 0. 0.]\n",
      " [0. 0. 0. 0.]\n",
      " [0. 0. 0. 0.]]\n",
      "[[[1 1 1 1]\n",
      "  [1 1 1 1]\n",
      "  [1 1 1 1]]\n",
      "\n",
      " [[1 1 1 1]\n",
      "  [1 1 1 1]\n",
      "  [1 1 1 1]]]\n"
     ]
    }
   ],
   "source": [
    "#criando matriz de zeros\n",
    "x = np.zeros( (3,4) )\n",
    "print(x)\n",
    "#criando matriz de 1s\n",
    "y = np.ones( (2,3,4), dtype=np.int16 )\n",
    "print(y)"
   ]
  },
  {
   "cell_type": "code",
   "execution_count": 4,
   "metadata": {},
   "outputs": [
    {
     "name": "stdout",
     "output_type": "stream",
     "text": [
      "[10 13 16 19 22 25 28]\n",
      "[0.  0.3 0.6 0.9 1.2 1.5 1.8]\n"
     ]
    }
   ],
   "source": [
    "#criando valores em sequencia (inteiros)\n",
    "sequencia = np.arange( 10, 30, 3 )\n",
    "print(sequencia)\n",
    "sequencia1 = np.arange( 0, 2, 0.3 )\n",
    "print(sequencia1)"
   ]
  },
  {
   "cell_type": "code",
   "execution_count": 5,
   "metadata": {},
   "outputs": [
    {
     "name": "stdout",
     "output_type": "stream",
     "text": [
      "[0.   0.25 0.5  0.75 1.   1.25 1.5  1.75 2.  ]\n",
      "[[0.87870411 0.71011745]\n",
      " [0.0446047  0.0218423 ]\n",
      " [0.51594766 0.76570361]]\n"
     ]
    }
   ],
   "source": [
    "#criando valores em sequencia (float)\n",
    "sequencia2 = np.linspace( 0, 2, 9 )\n",
    "print(sequencia2)\n",
    "#criando numeros aleatorios\n",
    "aleatorio = np.random.rand(3,2)\n",
    "print(aleatorio)"
   ]
  },
  {
   "cell_type": "code",
   "execution_count": 6,
   "metadata": {},
   "outputs": [
    {
     "name": "stdout",
     "output_type": "stream",
     "text": [
      "1D array\n",
      "[0 1 2 3 4 5]\n",
      "2D array\n",
      "[[ 0  1  2]\n",
      " [ 3  4  5]\n",
      " [ 6  7  8]\n",
      " [ 9 10 11]]\n",
      "3D array\n",
      "[[[ 0  1  2  3]\n",
      "  [ 4  5  6  7]\n",
      "  [ 8  9 10 11]]\n",
      "\n",
      " [[12 13 14 15]\n",
      "  [16 17 18 19]\n",
      "  [20 21 22 23]]]\n"
     ]
    }
   ],
   "source": [
    "#mudando o formato do array\n",
    "a = np.arange(6)                         # 1d array\n",
    "print('1D array')\n",
    "print(a)\n",
    "b = np.arange(12).reshape(4,3)           # 2d array\n",
    "print('2D array')\n",
    "print(b)\n",
    "c = np.arange(24).reshape(2,3,4)         # 3d array\n",
    "print('3D array')\n",
    "print(c)"
   ]
  },
  {
   "cell_type": "code",
   "execution_count": 8,
   "metadata": {},
   "outputs": [
    {
     "name": "stdout",
     "output_type": "stream",
     "text": [
      "[ 0  1  2  3  4  5  6  7  8  9 10 11 12 13 14 15 16 17 18 19 20 21 22 23\n",
      " 24 25 26 27 28 29 30 31 32 33 34 35 36 37 38 39 40 41 42 43 44 45 46 47\n",
      " 48 49 50 51 52 53 54 55 56 57 58 59 60 61 62 63 64 65 66 67 68 69 70 71\n",
      " 72 73 74 75 76 77 78 79 80 81 82 83 84 85 86 87 88 89 90 91 92 93 94 95\n",
      " 96 97 98 99]\n",
      "[[ 0  1  2  3  4  5  6  7  8  9]\n",
      " [10 11 12 13 14 15 16 17 18 19]\n",
      " [20 21 22 23 24 25 26 27 28 29]\n",
      " [30 31 32 33 34 35 36 37 38 39]\n",
      " [40 41 42 43 44 45 46 47 48 49]\n",
      " [50 51 52 53 54 55 56 57 58 59]\n",
      " [60 61 62 63 64 65 66 67 68 69]\n",
      " [70 71 72 73 74 75 76 77 78 79]\n",
      " [80 81 82 83 84 85 86 87 88 89]\n",
      " [90 91 92 93 94 95 96 97 98 99]]\n"
     ]
    }
   ],
   "source": [
    "#forca impressao do array completo\n",
    "np.set_printoptions(threshold=np.nan)\n",
    "print(np.arange(100))\n",
    "print(np.arange(100).reshape(10,10))"
   ]
  },
  {
   "cell_type": "code",
   "execution_count": 9,
   "metadata": {},
   "outputs": [
    {
     "name": "stdout",
     "output_type": "stream",
     "text": [
      "[20 30 40 50]\n",
      "[0 1 2 3]\n",
      "[20 29 38 47]\n",
      "f > g\n",
      "[0 1 4 9]\n"
     ]
    }
   ],
   "source": [
    "#operacoes basicas\n",
    "a = np.array( [20,30,40,50] )\n",
    "b = np.arange( 4 )\n",
    "print(a)\n",
    "print(b)\n",
    "c = a - b\n",
    "print(c)\n",
    "f = b**2\n",
    "g = 10*np.sin(a)\n",
    "\n",
    "if np.mean(f) > np.mean(g):\n",
    "    print('f > g')\n",
    "    print(f)\n",
    "else:\n",
    "    print('f < g')\n",
    "    print(g)"
   ]
  },
  {
   "cell_type": "code",
   "execution_count": 10,
   "metadata": {},
   "outputs": [
    {
     "name": "stdout",
     "output_type": "stream",
     "text": [
      "A * B = \n",
      "[[2 0]\n",
      " [0 4]]\n",
      "A @ B = \n",
      "[[5 4]\n",
      " [3 4]]\n",
      "A.dot(B)\n",
      "[[5 4]\n",
      " [3 4]]\n"
     ]
    }
   ],
   "source": [
    "A = np.array( [[1,1],\n",
    "            [0,1]] )\n",
    "B = np.array( [[2,0],\n",
    "            [3,4]] )\n",
    "\n",
    "print('A * B = ')\n",
    "print(A * B)\n",
    "print('A @ B = ')\n",
    "print(A @ B)\n",
    "print('A.dot(B)')\n",
    "print(A.dot(B))"
   ]
  },
  {
   "cell_type": "code",
   "execution_count": 11,
   "metadata": {},
   "outputs": [
    {
     "name": "stdout",
     "output_type": "stream",
     "text": [
      "[[1 1 1]\n",
      " [1 1 1]]\n",
      "[[0.42994929 0.29922317 0.31901957]\n",
      " [0.7413765  0.35117722 0.40661335]]\n",
      "[[3 3 3]\n",
      " [3 3 3]]\n",
      "[[3.42994929 3.29922317 3.31901957]\n",
      " [3.7413765  3.35117722 3.40661335]]\n",
      "[[6 6 6]\n",
      " [6 6 6]]\n"
     ]
    }
   ],
   "source": [
    "a = np.ones((2,3), dtype=int)\n",
    "print(a)\n",
    "b = np.random.random((2,3))\n",
    "print(b)\n",
    "a *= 3\n",
    "print(a)\n",
    "b += a\n",
    "print(b)\n",
    "a += b.astype('int64') #retire o cast! Veja o que acontece.\n",
    "print(a)"
   ]
  },
  {
   "cell_type": "code",
   "execution_count": 12,
   "metadata": {},
   "outputs": [
    {
     "name": "stdout",
     "output_type": "stream",
     "text": [
      "[[0.73971738 0.36976931 0.87493726]\n",
      " [0.27083385 0.24596224 0.45129984]]\n",
      "2.952519863702667\n",
      "0.2459622367452865\n",
      "0.8749372591937938\n"
     ]
    }
   ],
   "source": [
    "a = np.random.random((2,3))\n",
    "print(a)\n",
    "print(a.sum())\n",
    "print(a.min())\n",
    "print(a.max())"
   ]
  },
  {
   "cell_type": "code",
   "execution_count": 13,
   "metadata": {},
   "outputs": [
    {
     "name": "stdout",
     "output_type": "stream",
     "text": [
      "[[ 0  1  2  3]\n",
      " [ 4  5  6  7]\n",
      " [ 8  9 10 11]]\n",
      "[12 15 18 21]\n",
      "[0 4 8]\n",
      "[[ 0  1  3  6]\n",
      " [ 4  9 15 22]\n",
      " [ 8 17 27 38]]\n"
     ]
    }
   ],
   "source": [
    "b = np.arange(12).reshape(3,4)\n",
    "print(b)\n",
    "print(b.sum(axis=0) )\n",
    "print(b.min(axis=1))\n",
    "print(b.cumsum(axis=1))"
   ]
  },
  {
   "cell_type": "code",
   "execution_count": 16,
   "metadata": {},
   "outputs": [
    {
     "name": "stdout",
     "output_type": "stream",
     "text": [
      "[  0   1   8  27  64 125 216 343 512 729]\n",
      "8\n",
      "[ 8 27 64]\n",
      "[-1000     1 -1000    27 -1000   125   216   343   512   729]\n",
      "[  729   512   343   216   125 -1000    27 -1000     1 -1000]\n"
     ]
    }
   ],
   "source": [
    "#Indexing, Slicing and Iterating¶\n",
    "\n",
    "a = np.arange(10)**3\n",
    "print(a)\n",
    "print(a[2])\n",
    "print(a[2:5])\n",
    "a[:6:2] = -1000\n",
    "print(a)\n",
    "print(a[::-1])\n"
   ]
  },
  {
   "cell_type": "code",
   "execution_count": 20,
   "metadata": {},
   "outputs": [
    {
     "name": "stdout",
     "output_type": "stream",
     "text": [
      "1000000\n",
      "1\n",
      "1000000\n",
      "729\n",
      "1000000\n",
      "15625\n",
      "46656\n",
      "117649\n",
      "262144\n",
      "531441\n"
     ]
    }
   ],
   "source": [
    "for i in a:\n",
    "    print(i**(2))\n"
   ]
  },
  {
   "cell_type": "code",
   "execution_count": 19,
   "metadata": {},
   "outputs": [
    {
     "data": {
      "text/plain": [
       "array([-1000,     1, -1000,    27, -1000,   125,   216,   343,   512,\n",
       "         729])"
      ]
     },
     "execution_count": 19,
     "metadata": {},
     "output_type": "execute_result"
    }
   ],
   "source": []
  },
  {
   "cell_type": "code",
   "execution_count": null,
   "metadata": {},
   "outputs": [],
   "source": []
  }
 ],
 "metadata": {
  "kernelspec": {
   "display_name": "Python 3",
   "language": "python",
   "name": "python3"
  },
  "language_info": {
   "codemirror_mode": {
    "name": "ipython",
    "version": 3
   },
   "file_extension": ".py",
   "mimetype": "text/x-python",
   "name": "python",
   "nbconvert_exporter": "python",
   "pygments_lexer": "ipython3",
   "version": "3.6.5"
  }
 },
 "nbformat": 4,
 "nbformat_minor": 2
}
