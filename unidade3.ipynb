{
 "cells": [
  {
   "cell_type": "code",
   "execution_count": 1,
   "metadata": {},
   "outputs": [
    {
     "name": "stdout",
     "output_type": "stream",
     "text": [
      "0    1.0\n",
      "1    3.0\n",
      "2    5.0\n",
      "3    NaN\n",
      "4    6.0\n",
      "5    8.0\n",
      "dtype: float64\n",
      "DatetimeIndex(['2013-01-01', '2013-01-02', '2013-01-03', '2013-01-04',\n",
      "               '2013-01-05', '2013-01-06'],\n",
      "              dtype='datetime64[ns]', freq='D')\n",
      "                   A         B         C         D\n",
      "2013-01-01 -0.403196  0.032249  0.100169  0.687405\n",
      "2013-01-02 -1.610428  0.434653 -0.204463  1.297635\n",
      "2013-01-03  0.428089  1.481069 -0.005562  0.599542\n",
      "2013-01-04 -0.620118  1.130695 -0.189590  0.974589\n",
      "2013-01-05  2.148767  0.648769 -1.388115 -0.585609\n",
      "2013-01-06 -1.367042 -0.587597  0.124448  0.187487\n"
     ]
    }
   ],
   "source": [
    "#pandas\n",
    "'''https://pandas.pydata.org/pandas-docs/stable/10min.html#min'''\n",
    "\n",
    "import pandas as pd\n",
    "import numpy as np\n",
    "import matplotlib.pyplot as plt\n",
    "\n",
    "#Serie e uma tabela com uma coluna indice e uma coluna de dados\n",
    "s = pd.Series([1,3,5,np.nan,6,8])\n",
    "print(s)\n",
    "#datas\n",
    "dates = pd.date_range('20130101', periods=6)\n",
    "print(dates)\n",
    "\n",
    "#cria dataframe\n",
    "df = pd.DataFrame(np.random.randn(6,4), index=dates, columns=list('ABCD'))\n",
    "print(df)"
   ]
  },
  {
   "cell_type": "code",
   "execution_count": 2,
   "metadata": {},
   "outputs": [
    {
     "name": "stdout",
     "output_type": "stream",
     "text": [
      "     A          B    C  D      E    F\n",
      "0  1.0 2013-01-02  1.0  3   test  foo\n",
      "1  1.0 2013-01-02  1.0  3  train  foo\n",
      "2  1.0 2013-01-02  1.0  3   test  foo\n",
      "3  1.0 2013-01-02  1.0  3  train  foo\n"
     ]
    }
   ],
   "source": [
    "#cria dataframe\n",
    "df2 = pd.DataFrame({ 'A' : 1.,\n",
    "                     'B' : pd.Timestamp('20130102'),\n",
    "                     'C' : pd.Series(1,index=list(range(4)),dtype='float32'),\n",
    "                     'D' : np.array([3] * 4,dtype='int32'),\n",
    "                     'E' : pd.Categorical([\"test\",\"train\",\"test\",\"train\"]),\n",
    "                     'F' : 'foo' })\n",
    "\n",
    "print(df2)"
   ]
  },
  {
   "cell_type": "code",
   "execution_count": 3,
   "metadata": {},
   "outputs": [
    {
     "name": "stdout",
     "output_type": "stream",
     "text": [
      "tipos de dados do dataframe\n",
      "A           float64\n",
      "B    datetime64[ns]\n",
      "C           float32\n",
      "D             int32\n",
      "E          category\n",
      "F            object\n",
      "dtype: object\n",
      "                   A         B         C         D\n",
      "2013-01-01 -0.403196  0.032249  0.100169  0.687405\n",
      "2013-01-02 -1.610428  0.434653 -0.204463  1.297635\n",
      "2013-01-03  0.428089  1.481069 -0.005562  0.599542\n",
      "2013-01-04 -0.620118  1.130695 -0.189590  0.974589\n",
      "2013-01-05  2.148767  0.648769 -1.388115 -0.585609\n",
      "                   A         B         C         D\n",
      "2013-01-04 -0.620118  1.130695 -0.189590  0.974589\n",
      "2013-01-05  2.148767  0.648769 -1.388115 -0.585609\n",
      "2013-01-06 -1.367042 -0.587597  0.124448  0.187487\n",
      "DatetimeIndex(['2013-01-01', '2013-01-02', '2013-01-03', '2013-01-04',\n",
      "               '2013-01-05', '2013-01-06'],\n",
      "              dtype='datetime64[ns]', freq='D')\n",
      "Index(['A', 'B', 'C', 'D', 'E', 'F'], dtype='object')\n"
     ]
    }
   ],
   "source": [
    "print('tipos de dados do dataframe')\n",
    "print(df2.dtypes)\n",
    "#imprime as 5 primeiras colunas\n",
    "print(df.head())\n",
    "#imprime as 3 primeiras colunas\n",
    "print(df.tail(3))\n",
    "#imprime index\n",
    "print(df.index)\n",
    "#imprime cabecalho das colunas\n",
    "print(df2.columns)"
   ]
  },
  {
   "cell_type": "code",
   "execution_count": 4,
   "metadata": {},
   "outputs": [
    {
     "name": "stdout",
     "output_type": "stream",
     "text": [
      "              A         B         C         D\n",
      "count  6.000000  6.000000  6.000000  6.000000\n",
      "mean  -0.237322  0.523306 -0.260519  0.526841\n",
      "std    1.376367  0.746334  0.569727  0.660056\n",
      "min   -1.610428 -0.587597 -1.388115 -0.585609\n",
      "25%   -1.180311  0.132850 -0.200745  0.290501\n",
      "50%   -0.511657  0.541711 -0.097576  0.643473\n",
      "75%    0.220267  1.010214  0.073736  0.902793\n",
      "max    2.148767  1.481069  0.124448  1.297635\n",
      "   2013-01-01  2013-01-02  2013-01-03  2013-01-04  2013-01-05  2013-01-06\n",
      "A   -0.403196   -1.610428    0.428089   -0.620118    2.148767   -1.367042\n",
      "B    0.032249    0.434653    1.481069    1.130695    0.648769   -0.587597\n",
      "C    0.100169   -0.204463   -0.005562   -0.189590   -1.388115    0.124448\n",
      "D    0.687405    1.297635    0.599542    0.974589   -0.585609    0.187487\n",
      "                   D         C         B         A\n",
      "2013-01-01  0.687405  0.100169  0.032249 -0.403196\n",
      "2013-01-02  1.297635 -0.204463  0.434653 -1.610428\n",
      "2013-01-03  0.599542 -0.005562  1.481069  0.428089\n",
      "2013-01-04  0.974589 -0.189590  1.130695 -0.620118\n",
      "2013-01-05 -0.585609 -1.388115  0.648769  2.148767\n",
      "2013-01-06  0.187487  0.124448 -0.587597 -1.367042\n",
      "                   A         B         C         D\n",
      "2013-01-06 -1.367042 -0.587597  0.124448  0.187487\n",
      "2013-01-01 -0.403196  0.032249  0.100169  0.687405\n",
      "2013-01-02 -1.610428  0.434653 -0.204463  1.297635\n",
      "2013-01-05  2.148767  0.648769 -1.388115 -0.585609\n",
      "2013-01-04 -0.620118  1.130695 -0.189590  0.974589\n",
      "2013-01-03  0.428089  1.481069 -0.005562  0.599542\n",
      "2013-01-01   -0.403196\n",
      "2013-01-02   -1.610428\n",
      "2013-01-03    0.428089\n",
      "2013-01-04   -0.620118\n",
      "2013-01-05    2.148767\n",
      "2013-01-06   -1.367042\n",
      "Freq: D, Name: A, dtype: float64\n"
     ]
    }
   ],
   "source": [
    "#imprime estatisticas basicas dos dados\n",
    "print(df.describe())\n",
    "#imprime a transposta\n",
    "print(df.T)\n",
    "#imprime segundo um eixo\n",
    "print(df.sort_index(axis=1, ascending=False))\n",
    "#imprime segundo a columa B\n",
    "print(df.sort_values(by='B'))\n",
    "#seleciona uma coluna\n",
    "print(df['A'])"
   ]
  },
  {
   "cell_type": "code",
   "execution_count": 5,
   "metadata": {},
   "outputs": [
    {
     "name": "stdout",
     "output_type": "stream",
     "text": [
      "                   A         B         C         D\n",
      "2013-01-01 -0.403196  0.032249  0.100169  0.687405\n",
      "2013-01-02 -1.610428  0.434653 -0.204463  1.297635\n",
      "2013-01-03  0.428089  1.481069 -0.005562  0.599542\n",
      "                   A         B         C         D\n",
      "2013-01-02 -1.610428  0.434653 -0.204463  1.297635\n",
      "2013-01-03  0.428089  1.481069 -0.005562  0.599542\n",
      "2013-01-04 -0.620118  1.130695 -0.189590  0.974589\n",
      "A   -0.403196\n",
      "B    0.032249\n",
      "C    0.100169\n",
      "D    0.687405\n",
      "Name: 2013-01-01 00:00:00, dtype: float64\n",
      "A   -1.610428\n",
      "B    0.434653\n",
      "C   -0.204463\n",
      "D    1.297635\n",
      "Name: 2013-01-02 00:00:00, dtype: float64\n",
      "A    0.428089\n",
      "B    1.481069\n",
      "C   -0.005562\n",
      "D    0.599542\n",
      "Name: 2013-01-03 00:00:00, dtype: float64\n"
     ]
    }
   ],
   "source": [
    "#seleciona linha 0, 1 e 2\n",
    "print(df[0:3])\n",
    "#seleciona as linhas entre as datas (index)\n",
    "print(df['20130102':'20130104'])\n",
    "#seleciona os elementos da linha 0\n",
    "print(df.loc[dates[0]])\n",
    "#seleciona os elementos da linha 1\n",
    "print(df.loc[dates[1]])\n",
    "#seleciona os elementos da linha 2\n",
    "print(df.loc[dates[2]])"
   ]
  },
  {
   "cell_type": "code",
   "execution_count": 6,
   "metadata": {},
   "outputs": [
    {
     "name": "stdout",
     "output_type": "stream",
     "text": [
      "                   A         B\n",
      "2013-01-01 -0.403196  0.032249\n",
      "2013-01-02 -1.610428  0.434653\n",
      "2013-01-03  0.428089  1.481069\n",
      "2013-01-04 -0.620118  1.130695\n",
      "2013-01-05  2.148767  0.648769\n",
      "2013-01-06 -1.367042 -0.587597\n",
      "                   A         B\n",
      "2013-01-02 -1.610428  0.434653\n",
      "2013-01-03  0.428089  1.481069\n",
      "2013-01-04 -0.620118  1.130695\n",
      "A   -1.610428\n",
      "B    0.434653\n",
      "Name: 2013-01-02 00:00:00, dtype: float64\n",
      "-0.40319616868766833\n",
      "-0.40319616868766833\n",
      "A   -0.620118\n",
      "B    1.130695\n",
      "C   -0.189590\n",
      "D    0.974589\n",
      "Name: 2013-01-04 00:00:00, dtype: float64\n"
     ]
    }
   ],
   "source": [
    "#seleciona todas as linhas das colunas A e B\n",
    "print(df.loc[:,['A','B']])\n",
    "#seleciona as linhas entre as datas sendo das colunas A e B\n",
    "print(df.loc['20130102':'20130104',['A','B']])\n",
    "#seleciona os elementos das columas A e B da linha especificada\n",
    "print(df.loc['20130102',['A','B']])\n",
    "#seleciona o elemento da linha 0 e coluna A\n",
    "print(df.loc[dates[0],'A'])\n",
    "print(df.at[dates[0],'A']) #mais rapido!\n",
    "#todos os elementos da linha 3\n",
    "print(df.iloc[3])"
   ]
  },
  {
   "cell_type": "code",
   "execution_count": 7,
   "metadata": {},
   "outputs": [
    {
     "name": "stdout",
     "output_type": "stream",
     "text": [
      "                   A         B\n",
      "2013-01-04 -0.620118  1.130695\n",
      "2013-01-05  2.148767  0.648769\n",
      "                   A         C\n",
      "2013-01-02 -1.610428 -0.204463\n",
      "2013-01-03  0.428089 -0.005562\n",
      "2013-01-05  2.148767 -1.388115\n",
      "                   A         B         C         D\n",
      "2013-01-02 -1.610428  0.434653 -0.204463  1.297635\n",
      "2013-01-03  0.428089  1.481069 -0.005562  0.599542\n",
      "                   B         C\n",
      "2013-01-01  0.032249  0.100169\n",
      "2013-01-02  0.434653 -0.204463\n",
      "2013-01-03  1.481069 -0.005562\n",
      "2013-01-04  1.130695 -0.189590\n",
      "2013-01-05  0.648769 -1.388115\n",
      "2013-01-06 -0.587597  0.124448\n",
      "0.4346530694823334\n",
      "0.4346530694823334\n"
     ]
    }
   ],
   "source": [
    "#elementos da linha 3 e 4 e das colunas A e B ou 0 e 1\n",
    "#repare que a linha 5 não entra e a coluna 2 nao entra.\n",
    "print(df.iloc[3:5,0:2])\n",
    "#linhas 1, 2 e 4 e colunas 0 e 1\n",
    "print(df.iloc[[1,2,4],[0,2]])\n",
    "#todas as colunas das linhas 1 e 2\n",
    "print(df.iloc[1:3,:])\n",
    "#todas as linhas das colunas 1 e 2\n",
    "print(df.iloc[:,1:3])\n",
    "#le um unico valor\n",
    "print(df.iloc[1,1])\n",
    "print(df.iat[1,1]) #mais rapido!"
   ]
  },
  {
   "cell_type": "code",
   "execution_count": 8,
   "metadata": {},
   "outputs": [
    {
     "name": "stdout",
     "output_type": "stream",
     "text": [
      "                   A         B         C         D\n",
      "2013-01-03  0.428089  1.481069 -0.005562  0.599542\n",
      "2013-01-05  2.148767  0.648769 -1.388115 -0.585609\n",
      "                   A         B         C         D\n",
      "2013-01-01       NaN  0.032249  0.100169  0.687405\n",
      "2013-01-02       NaN  0.434653       NaN  1.297635\n",
      "2013-01-03  0.428089  1.481069       NaN  0.599542\n",
      "2013-01-04       NaN  1.130695       NaN  0.974589\n",
      "2013-01-05  2.148767  0.648769       NaN       NaN\n",
      "2013-01-06       NaN       NaN  0.124448  0.187487\n",
      "                   A         B         C         D      E\n",
      "2013-01-01 -0.403196  0.032249  0.100169  0.687405    one\n",
      "2013-01-02 -1.610428  0.434653 -0.204463  1.297635    one\n",
      "2013-01-03  0.428089  1.481069 -0.005562  0.599542    two\n",
      "2013-01-04 -0.620118  1.130695 -0.189590  0.974589  three\n",
      "2013-01-05  2.148767  0.648769 -1.388115 -0.585609   four\n",
      "2013-01-06 -1.367042 -0.587597  0.124448  0.187487  three\n",
      "                   A         B         C         D     E\n",
      "2013-01-03  0.428089  1.481069 -0.005562  0.599542   two\n",
      "2013-01-05  2.148767  0.648769 -1.388115 -0.585609  four\n",
      "2013-01-01    1\n",
      "2013-01-02    2\n",
      "2013-01-03    3\n",
      "2013-01-04    4\n",
      "2013-01-05    5\n",
      "2013-01-06    6\n",
      "Freq: D, dtype: int64\n"
     ]
    }
   ],
   "source": [
    "#todas as linhas com valor de A maior que 0\n",
    "print(df[df.A > 0])\n",
    "#todas as linhas que forem maior que 0\n",
    "print(df[df > 0])\n",
    "#copia dataframe\n",
    "df2 = df.copy()\n",
    "#adiciona nova coluna E e os respectivos valores\n",
    "df2['E'] = ['one', 'one','two','three','four','three']\n",
    "print(df2)\n",
    "#todas as linhas em que os valores two ou four estejam na coluna E\n",
    "print(df2[df2['E'].isin(['two','four'])])\n",
    "#cria series com valores 1 a 6 e com indices da data inicial até 6 periodos\n",
    "s1 = pd.Series([1,2,3,4,5,6], index=pd.date_range('20130101', periods=6))\n",
    "print(s1)"
   ]
  },
  {
   "cell_type": "code",
   "execution_count": 9,
   "metadata": {},
   "outputs": [
    {
     "name": "stdout",
     "output_type": "stream",
     "text": [
      "                   A         B         C         D  F\n",
      "2013-01-01 -0.403196  0.032249  0.100169  0.687405  1\n",
      "2013-01-02 -1.610428  0.434653 -0.204463  1.297635  2\n",
      "2013-01-03  0.428089  1.481069 -0.005562  0.599542  3\n",
      "2013-01-04 -0.620118  1.130695 -0.189590  0.974589  4\n",
      "2013-01-05  2.148767  0.648769 -1.388115 -0.585609  5\n",
      "2013-01-06 -1.367042 -0.587597  0.124448  0.187487  6\n",
      "                   A         B         C         D  F\n",
      "2013-01-01  0.000000  0.032249  0.100169  0.687405  1\n",
      "2013-01-02 -1.610428  0.434653 -0.204463  1.297635  2\n",
      "2013-01-03  0.428089  1.481069 -0.005562  0.599542  3\n",
      "2013-01-04 -0.620118  1.130695 -0.189590  0.974589  4\n",
      "2013-01-05  2.148767  0.648769 -1.388115 -0.585609  5\n",
      "2013-01-06 -1.367042 -0.587597  0.124448  0.187487  6\n",
      "                   A         B         C         D  F\n",
      "2013-01-01  0.000000  0.000000  0.100169  0.687405  1\n",
      "2013-01-02 -1.610428  0.434653 -0.204463  1.297635  2\n",
      "2013-01-03  0.428089  1.481069 -0.005562  0.599542  3\n",
      "2013-01-04 -0.620118  1.130695 -0.189590  0.974589  4\n",
      "2013-01-05  2.148767  0.648769 -1.388115 -0.585609  5\n",
      "2013-01-06 -1.367042 -0.587597  0.124448  0.187487  6\n",
      "                   A         B         C  D  F\n",
      "2013-01-01  0.000000  0.000000  0.100169  5  1\n",
      "2013-01-02 -1.610428  0.434653 -0.204463  5  2\n",
      "2013-01-03  0.428089  1.481069 -0.005562  5  3\n",
      "2013-01-04 -0.620118  1.130695 -0.189590  5  4\n",
      "2013-01-05  2.148767  0.648769 -1.388115  5  5\n",
      "2013-01-06 -1.367042 -0.587597  0.124448  5  6\n"
     ]
    }
   ],
   "source": [
    "#insere s1 na coluna F de df\n",
    "df['F'] = s1\n",
    "print(df)\n",
    "#atribui 0 na linha 0 coluna A\n",
    "df.at[dates[0],'A'] = 0\n",
    "print(df)\n",
    "#atribui 0 na linha 0 e coluna 1 ou B\n",
    "df.iat[0,1] = 0\n",
    "print(df)\n",
    "#coloca um vetor de valores 5 na coluna D de df\n",
    "df.loc[:,'D'] = np.array([5] * len(df))\n",
    "print(df)"
   ]
  },
  {
   "cell_type": "code",
   "execution_count": 10,
   "metadata": {},
   "outputs": [
    {
     "name": "stdout",
     "output_type": "stream",
     "text": [
      "                   A         B         C  D  F    E\n",
      "2013-01-01  0.000000  0.000000  0.100169  5  1  1.0\n",
      "2013-01-02 -1.610428  0.434653 -0.204463  5  2  1.0\n",
      "2013-01-03  0.428089  1.481069 -0.005562  5  3  NaN\n",
      "2013-01-04 -0.620118  1.130695 -0.189590  5  4  NaN\n",
      "                   A         B         C  D  F    E\n",
      "2013-01-01  0.000000  0.000000  0.100169  5  1  1.0\n",
      "2013-01-02 -1.610428  0.434653 -0.204463  5  2  1.0\n"
     ]
    }
   ],
   "source": [
    "df2 = df.copy()\n",
    "#onde os valores forem menor que 0, coloca os valores invertidos nos campos correspondentes.\n",
    "df2[df2 > 0] = -df2\n",
    "#reindex e especifica o lable das colunas\n",
    "df1 = df.reindex(index=dates[0:4], columns=list(df.columns) + ['E'])\n",
    "#coloca o valor 1 na coluna E da primeira e segunda linhas\n",
    "df1.loc[dates[0]:dates[1],'E'] = 1\n",
    "print(df1)\n",
    "#apaga todas as linhas com valores NaN\n",
    "df1 = df1.dropna(how='any')\n",
    "print(df1)"
   ]
  },
  {
   "cell_type": "code",
   "execution_count": 11,
   "metadata": {},
   "outputs": [
    {
     "name": "stdout",
     "output_type": "stream",
     "text": [
      "                   A         B         C  D  F    E\n",
      "2013-01-01  0.000000  0.000000  0.100169  5  1  1.0\n",
      "2013-01-02 -1.610428  0.434653 -0.204463  5  2  1.0\n",
      "                A      B      C      D      F      E\n",
      "2013-01-01  False  False  False  False  False  False\n",
      "2013-01-02  False  False  False  False  False  False\n",
      "A   -0.170122\n",
      "B    0.517932\n",
      "C   -0.260519\n",
      "D    5.000000\n",
      "F    3.500000\n",
      "dtype: float64\n",
      "2013-01-01    1.220034\n",
      "2013-01-02    1.123952\n",
      "2013-01-03    1.980719\n",
      "2013-01-04    1.864197\n",
      "2013-01-05    2.281884\n",
      "2013-01-06    1.833962\n",
      "Freq: D, dtype: float64\n"
     ]
    }
   ],
   "source": [
    "#coloca o valor 5 onde for NaN\n",
    "df1 = df1.fillna(value=5)\n",
    "print(df1)\n",
    "#testa se existe NaN em df1\n",
    "print(pd.isna(df1))\n",
    "#media por coluna\n",
    "print(df.mean())\n",
    "#media por linha\n",
    "print(df.mean(1))"
   ]
  },
  {
   "cell_type": "code",
   "execution_count": 12,
   "metadata": {},
   "outputs": [
    {
     "name": "stdout",
     "output_type": "stream",
     "text": [
      "2013-01-01    NaN\n",
      "2013-01-02    NaN\n",
      "2013-01-03    1.0\n",
      "2013-01-04    3.0\n",
      "2013-01-05    5.0\n",
      "2013-01-06    NaN\n",
      "Freq: D, dtype: float64\n",
      "                   A         B         C    D    F\n",
      "2013-01-01       NaN       NaN       NaN  NaN  NaN\n",
      "2013-01-02       NaN       NaN       NaN  NaN  NaN\n",
      "2013-01-03 -0.571911  0.481069 -1.005562  4.0  2.0\n",
      "2013-01-04 -3.620118 -1.869305 -3.189590  2.0  1.0\n",
      "2013-01-05 -2.851233 -4.351231 -6.388115  0.0  0.0\n",
      "2013-01-06       NaN       NaN       NaN  NaN  NaN\n",
      "                   A         B         C   D   F\n",
      "2013-01-01  0.000000  0.000000  0.100169   5   1\n",
      "2013-01-02 -1.610428  0.434653 -0.104294  10   3\n",
      "2013-01-03 -1.182339  1.915722 -0.109856  15   6\n",
      "2013-01-04 -1.802458  3.046417 -0.299446  20  10\n",
      "2013-01-05  0.346309  3.695186 -1.687561  25  15\n",
      "2013-01-06 -1.020733  3.107589 -1.563113  30  21\n",
      "A    3.759195\n",
      "B    2.068666\n",
      "C    1.512563\n",
      "D    0.000000\n",
      "F    5.000000\n",
      "dtype: float64\n",
      "3    2\n",
      "2    2\n",
      "1    2\n",
      "0    2\n",
      "6    1\n",
      "5    1\n",
      "dtype: int64\n"
     ]
    }
   ],
   "source": [
    "s = pd.Series([1,3,5,np.nan,6,8], index=dates).shift(2)\n",
    "print(s)\n",
    "#subtrai s de df, elemento a elemento\n",
    "print(df.sub(s,axis='index'))\n",
    "#aplica a operacao np.cumsum ao dataframe\n",
    "print(df.apply(np.cumsum))\n",
    "#aplica lambda ao df\n",
    "print(df.apply(lambda x: x.max() - x.min()))\n",
    "#cria serie\n",
    "s = pd.Series(np.random.randint(0, 7, size=10))\n",
    "#conta valores (histograma)\n",
    "xx = s.value_counts()\n",
    "print(xx)"
   ]
  },
  {
   "cell_type": "code",
   "execution_count": 13,
   "metadata": {},
   "outputs": [
    {
     "name": "stdout",
     "output_type": "stream",
     "text": [
      "0       a\n",
      "1       b\n",
      "2       c\n",
      "3    aaba\n",
      "4    baca\n",
      "5     NaN\n",
      "6    caba\n",
      "7     dog\n",
      "8     cat\n",
      "dtype: object\n",
      "[          0         1         2         3\n",
      "0 -0.383821  2.286988 -0.175209  1.638059\n",
      "1 -0.311804 -0.322565 -0.048511 -0.261143\n",
      "2 -1.047006 -0.940424  1.723412 -0.423975,           0         1         2         3\n",
      "3  1.330621  0.894384  2.261047 -1.122471\n",
      "4  0.034015  1.299497  0.814183  0.888387\n",
      "5 -0.783782 -1.116500 -1.102229 -0.328100\n",
      "6 -0.895744 -1.399759 -1.337073 -0.597976,           0         1         2         3\n",
      "7  0.279975  0.289185  0.312389  0.951422\n",
      "8  0.683304 -2.133826  0.455354 -1.357135\n",
      "9  0.422992  1.025715 -0.025594 -0.123282]\n",
      "          0         1         2         3\n",
      "0 -0.383821  2.286988 -0.175209  1.638059\n",
      "1 -0.311804 -0.322565 -0.048511 -0.261143\n",
      "2 -1.047006 -0.940424  1.723412 -0.423975\n",
      "3  1.330621  0.894384  2.261047 -1.122471\n",
      "4  0.034015  1.299497  0.814183  0.888387\n",
      "5 -0.783782 -1.116500 -1.102229 -0.328100\n",
      "6 -0.895744 -1.399759 -1.337073 -0.597976\n",
      "7  0.279975  0.289185  0.312389  0.951422\n",
      "8  0.683304 -2.133826  0.455354 -1.357135\n",
      "9  0.422992  1.025715 -0.025594 -0.123282\n"
     ]
    }
   ],
   "source": [
    "#cria series\n",
    "s = pd.Series(['A', 'B', 'C', 'Aaba', 'Baca', np.nan, 'CABA', 'dog', 'cat'])\n",
    "#transforma para minusculo\n",
    "print(s.str.lower())\n",
    "#cria dataframe\n",
    "df = pd.DataFrame(np.random.randn(10, 4))\n",
    "#quebra em partes\n",
    "pieces = [df[:3], df[3:7], df[7:]]\n",
    "print(pieces)\n",
    "concatenacao = pd.concat(pieces)\n",
    "print(concatenacao)\n"
   ]
  },
  {
   "cell_type": "code",
   "execution_count": null,
   "metadata": {},
   "outputs": [],
   "source": []
  }
 ],
 "metadata": {
  "kernelspec": {
   "display_name": "Python 3",
   "language": "python",
   "name": "python3"
  },
  "language_info": {
   "codemirror_mode": {
    "name": "ipython",
    "version": 3
   },
   "file_extension": ".py",
   "mimetype": "text/x-python",
   "name": "python",
   "nbconvert_exporter": "python",
   "pygments_lexer": "ipython3",
   "version": "3.6.5"
  }
 },
 "nbformat": 4,
 "nbformat_minor": 2
}
