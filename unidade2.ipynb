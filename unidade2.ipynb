{
 "cells": [
  {
   "cell_type": "code",
   "execution_count": 1,
   "metadata": {},
   "outputs": [
    {
     "name": "stdout",
     "output_type": "stream",
     "text": [
      "[[ 0  1  2  3]\n",
      " [10 11 12 13]\n",
      " [20 21 22 23]\n",
      " [30 31 32 33]\n",
      " [40 41 42 43]]\n"
     ]
    }
   ],
   "source": [
    "#funcoes\n",
    "import numpy as np\n",
    "from numpy import newaxis\n",
    "import matplotlib.pyplot as plt\n",
    "\n",
    "def f(x,y):\n",
    "    return 10*x+y\n",
    "\n",
    "b = np.fromfunction(f,(5,4),dtype=int)\n",
    "print(b)"
   ]
  },
  {
   "cell_type": "code",
   "execution_count": 2,
   "metadata": {},
   "outputs": [
    {
     "name": "stdout",
     "output_type": "stream",
     "text": [
      "23\n",
      "[ 1 11 21 31 41]\n",
      "[ 1 11 21 31 41]\n",
      "[[10 11 12 13]\n",
      " [20 21 22 23]]\n",
      "[40 41 42 43]\n"
     ]
    }
   ],
   "source": [
    "print(b[2,3])\n",
    "print(b[0:5, 1])              # each row in the second column of b\n",
    "print(b[ : ,1])               # equivalent to the previous example\n",
    "print(b[1:3, : ])             # each column in the second and third row of b\n",
    "print(b[-1])"
   ]
  },
  {
   "cell_type": "code",
   "execution_count": 3,
   "metadata": {},
   "outputs": [
    {
     "name": "stdout",
     "output_type": "stream",
     "text": [
      "[[100 101 102]\n",
      " [110 112 113]]\n",
      "[[  2  13]\n",
      " [102 113]]\n",
      "0\n",
      "1\n",
      "2\n",
      "3\n",
      "10\n",
      "11\n",
      "12\n",
      "13\n",
      "20\n",
      "21\n",
      "22\n",
      "23\n",
      "30\n",
      "31\n",
      "32\n",
      "33\n",
      "40\n",
      "41\n",
      "42\n",
      "43\n"
     ]
    }
   ],
   "source": [
    "c = np.array( [[[  0,  1,  2],               # a 3D array (two stacked 2D arrays)\n",
    "                [ 10, 12, 13]],\n",
    "               [[100,101,102],\n",
    "                [110,112,113]]])\n",
    "\n",
    "print(c[1,...])\n",
    "print(c[...,2])\n",
    "\n",
    "for element in b.flat:\n",
    "    print(element)\n"
   ]
  },
  {
   "cell_type": "code",
   "execution_count": 8,
   "metadata": {},
   "outputs": [
    {
     "name": "stdout",
     "output_type": "stream",
     "text": [
      "[[9. 7. 6. 4.]\n",
      " [1. 6. 5. 8.]\n",
      " [0. 7. 1. 4.]]\n",
      "[[9. 7. 6. 4.]\n",
      " [1. 6. 5. 8.]\n",
      " [0. 7. 1. 4.]]\n",
      "[[9. 7. 6. 4.]\n",
      " [1. 6. 5. 8.]\n",
      " [0. 7. 1. 4.]]\n",
      "[[9. 1. 0.]\n",
      " [7. 6. 7.]\n",
      " [6. 5. 1.]\n",
      " [4. 8. 4.]]\n",
      "(4, 3)\n",
      "[[9. 7. 6. 4.]\n",
      " [1. 6. 5. 8.]\n",
      " [0. 7. 1. 4.]]\n"
     ]
    }
   ],
   "source": [
    "#shape manipulation\n",
    "a = np.floor(10*np.random.random((3,4)))\n",
    "print(a)\n",
    "a.ravel()  # returns the array, flattened\n",
    "print(a)\n",
    "a.reshape(6,2)  # returns the array with a modified shape\n",
    "print(a)\n",
    "print(a.T)\n",
    "print(a.T.shape)\n",
    "a = a.reshape(3,-1)\n",
    "print(a)"
   ]
  },
  {
   "cell_type": "code",
   "execution_count": 9,
   "metadata": {},
   "outputs": [
    {
     "name": "stdout",
     "output_type": "stream",
     "text": [
      "[[7. 8.]\n",
      " [5. 1.]]\n",
      "[[3. 7.]\n",
      " [2. 6.]]\n",
      "[[7. 8.]\n",
      " [5. 1.]\n",
      " [3. 7.]\n",
      " [2. 6.]]\n",
      "[[7. 8. 3. 7.]\n",
      " [5. 1. 2. 6.]]\n"
     ]
    }
   ],
   "source": [
    "a = np.floor(10*np.random.random((2,2)))\n",
    "print(a)\n",
    "b = np.floor(10*np.random.random((2,2)))\n",
    "print(b)\n",
    "vs = np.vstack((a,b))\n",
    "print(vs)\n",
    "hs = np.hstack((a,b))\n",
    "print(hs)\n",
    "\n",
    "v2d = np.column_stack((a,b))     # with 2D arrays"
   ]
  },
  {
   "cell_type": "code",
   "execution_count": 11,
   "metadata": {},
   "outputs": [
    {
     "name": "stdout",
     "output_type": "stream",
     "text": [
      "[[4.]\n",
      " [2.]]\n",
      "[[4. 3.]\n",
      " [2. 8.]]\n",
      "[[4. 3.]\n",
      " [2. 8.]]\n"
     ]
    }
   ],
   "source": [
    "a = np.array([4.,2.])\n",
    "b = np.array([3.,8.])\n",
    "ab = np.column_stack((a,b))     # returns a 2D array\n",
    "ba = np.hstack((a,b))           # the result is different\n",
    "\n",
    "print(a[:,newaxis])               # this allows to have a 2D columns vector\n",
    "print(np.column_stack((a[:,newaxis],b[:,newaxis])))\n",
    "print(np.hstack((a[:,newaxis],b[:,newaxis])))   # the result is the same"
   ]
  },
  {
   "cell_type": "code",
   "execution_count": 12,
   "metadata": {},
   "outputs": [
    {
     "name": "stdout",
     "output_type": "stream",
     "text": [
      "[[1. 2. 7. 3. 4. 2. 6. 9. 1. 3. 2. 7.]\n",
      " [3. 8. 7. 0. 6. 1. 5. 4. 1. 5. 0. 5.]]\n",
      "[array([[1., 2., 7., 3.],\n",
      "       [3., 8., 7., 0.]]), array([[4., 2., 6., 9.],\n",
      "       [6., 1., 5., 4.]]), array([[1., 3., 2., 7.],\n",
      "       [1., 5., 0., 5.]])]\n",
      "[array([[1., 2., 7.],\n",
      "       [3., 8., 7.]]), array([[3.],\n",
      "       [0.]]), array([[4., 2., 6., 9., 1., 3., 2., 7.],\n",
      "       [6., 1., 5., 4., 1., 5., 0., 5.]])]\n"
     ]
    }
   ],
   "source": [
    "a = np.floor(10*np.random.random((2,12)))\n",
    "print(a)\n",
    "aa = np.hsplit(a,3)   # Split a into 3\n",
    "print(aa)\n",
    "\n",
    "bb = np.hsplit(a,(3,4))   # Split a after the third and the fourth column\n",
    "print(bb)"
   ]
  },
  {
   "cell_type": "code",
   "execution_count": 13,
   "metadata": {},
   "outputs": [
    {
     "name": "stdout",
     "output_type": "stream",
     "text": [
      "True\n",
      "(3, 4)\n",
      "(3, 4)\n"
     ]
    }
   ],
   "source": [
    "a = np.arange(12)\n",
    "b = a            # no new object is created\n",
    "print(b is a)           # a and b are two names for the same ndarray object\n",
    "\n",
    "b.shape = 3,4    # changes the shape of a\n",
    "print(b.shape)\n",
    "a.shape\n",
    "print(a.shape)"
   ]
  },
  {
   "cell_type": "code",
   "execution_count": 14,
   "metadata": {},
   "outputs": [
    {
     "name": "stdout",
     "output_type": "stream",
     "text": [
      "[[ 0  1  2  3]\n",
      " [ 4  5  6  7]\n",
      " [ 8  9 10 11]]\n",
      "False\n",
      "True\n",
      "False\n",
      "[[ 1  2]\n",
      " [ 5  6]\n",
      " [ 9 10]]\n",
      "[[10 10]\n",
      " [10 10]\n",
      " [10 10]]\n",
      "[[ 0 10 10  3]\n",
      " [ 4 10 10  7]\n",
      " [ 8 10 10 11]]\n"
     ]
    }
   ],
   "source": [
    "c = a.view()\n",
    "print(c)\n",
    "print(c is a)\n",
    "print(c.base is a )                        # c is a view of the data owned by a\n",
    "print(c.flags.owndata)\n",
    "\n",
    "s = a[ : , 1:3]     # spaces added for clarity; could also be written \"s = a[:,1:3]\"\n",
    "print(s)\n",
    "s[:] = 10           # s[:] is a view of s. Note the difference between s=10 and s[:]=10\n",
    "print(s)\n",
    "print(a)\n"
   ]
  },
  {
   "cell_type": "code",
   "execution_count": 15,
   "metadata": {},
   "outputs": [
    {
     "name": "stdout",
     "output_type": "stream",
     "text": [
      "[[ 0 10 10  3]\n",
      " [ 4 10 10  7]\n",
      " [ 8 10 10 11]]\n",
      "False\n",
      "False\n",
      "[[9999   10   10    3]\n",
      " [   4   10   10    7]\n",
      " [   8   10   10   11]]\n"
     ]
    }
   ],
   "source": [
    "d = a.copy()                          # a new array object with new data is created\n",
    "print(d)\n",
    "print(d is a)\n",
    "\n",
    "print(d.base is a)                           # d doesn't share anything with a\n",
    "\n",
    "d[0,0] = 9999\n",
    "print(d)"
   ]
  },
  {
   "cell_type": "code",
   "execution_count": 16,
   "metadata": {},
   "outputs": [
    {
     "name": "stdout",
     "output_type": "stream",
     "text": [
      "[[False False False False]\n",
      " [False  True  True  True]\n",
      " [ True  True  True  True]]\n",
      "[ 5  6  7  8  9 10 11]\n"
     ]
    }
   ],
   "source": [
    "#indexing\n",
    "a = np.arange(12).reshape(3,4)\n",
    "b = a > 4\n",
    "print(b)                                          # b is a boolean with a's shape\n",
    "print(a[b])"
   ]
  },
  {
   "cell_type": "code",
   "execution_count": 17,
   "metadata": {},
   "outputs": [
    {
     "data": {
      "image/png": "[encoded data removed]",
      "text/plain": [
       "<Figure size 432x288 with 1 Axes>"
      ]
     },
     "metadata": {},
     "output_type": "display_data"
    }
   ],
   "source": [
    "def mandelbrot( h,w, maxit=20 ):\n",
    "    \"\"\"Returns an image of the Mandelbrot fractal of size (h,w).\"\"\"\n",
    "    y,x = np.ogrid[ -1.4:1.4:h*1j, -2:0.8:w*1j ]\n",
    "    c = x+y*1j\n",
    "    z = c\n",
    "    divtime = maxit + np.zeros(z.shape, dtype=int)\n",
    "\n",
    "    for i in range(maxit):\n",
    "        z = z**2 + c\n",
    "        diverge = z*np.conj(z) > 2**2            # who is diverging\n",
    "        div_now = diverge & (divtime==maxit)  # who is diverging now\n",
    "        divtime[div_now] = i                  # note when\n",
    "        z[diverge] = 2                        # avoid diverging too much\n",
    "\n",
    "    return divtime\n",
    "\n",
    "plt.imshow(mandelbrot(400,400))\n",
    "plt.show()"
   ]
  },
  {
   "cell_type": "code",
   "execution_count": 1,
   "metadata": {},
   "outputs": [
    {
     "data": {
      "image/png": "[encoded data removed]",
      "text/plain": [
       "<Figure size 432x288 with 1 Axes>"
      ]
     },
     "metadata": {},
     "output_type": "display_data"
    }
   ],
   "source": [
    "#histograma\n",
    "import numpy as np\n",
    "import matplotlib.pyplot as plt\n",
    "# Build a vector of 10000 normal deviates with variance 0.5^2 and mean 2\n",
    "mu, sigma = 2, 0.5\n",
    "v = np.random.normal(mu,sigma,10000)\n",
    "# Plot a normalized histogram with 50 bins\n",
    "plt.hist(v, bins=50, density=1)       # matplotlib version (plot)\n",
    "plt.show()"
   ]
  },
  {
   "cell_type": "code",
   "execution_count": null,
   "metadata": {},
   "outputs": [],
   "source": []
  }
 ],
 "metadata": {
  "kernelspec": {
   "display_name": "Python 3",
   "language": "python",
   "name": "python3"
  },
  "language_info": {
   "codemirror_mode": {
    "name": "ipython",
    "version": 3
   },
   "file_extension": ".py",
   "mimetype": "text/x-python",
   "name": "python",
   "nbconvert_exporter": "python",
   "pygments_lexer": "ipython3",
   "version": "3.6.5"
  }
 },
 "nbformat": 4,
 "nbformat_minor": 2
}
